{
 "cells": [
  {
   "cell_type": "code",
   "execution_count": 50,
   "id": "7c52aadd",
   "metadata": {},
   "outputs": [],
   "source": [
    "import seaborn as sb\n",
    "import os\n",
    "import time\n",
    "\n",
    "import networkx as nx\n",
    "import matplotlib.pyplot as plt\n",
    "import pandas as pd\n",
    "import numpy as np\n",
    "#import os\n",
    "#from itertools import combinations\n",
    "#import random\n",
    "import osmnx as ox\n",
    "from sklearn.preprocessing import MinMaxScaler"
   ]
  },
  {
   "cell_type": "code",
   "execution_count": 2,
   "id": "5f636930",
   "metadata": {},
   "outputs": [],
   "source": [
    "names = [\"Visano\", \"Asola\",\"Montichiari\",\"Brescia\",\"Roma\"]\n",
    "places = [(45.317468,10.3694991), # Visano (BS)\n",
    "        (45.221332657542824, 10.41757427434648), # Asola (MN)\n",
    "        (45.41301145796791, 10.39169903519818), # Montichiari (BS)\n",
    "        (45.536282844234854, 10.206297121183406), # Brescia (BS)\n",
    "        (41.90343248728792, 12.496484448996995)] # Roma (RO)"
   ]
  },
  {
   "cell_type": "markdown",
   "id": "c43b85bb",
   "metadata": {},
   "source": [
    "## Download maps and save graph as .xml"
   ]
  },
  {
   "cell_type": "code",
   "execution_count": 3,
   "id": "3c795cf7",
   "metadata": {},
   "outputs": [
    {
     "name": "stdout",
     "output_type": "stream",
     "text": [
      "Visano\n",
      "MultiGraph with 297 nodes and 378 edges\n",
      "Asola\n",
      "MultiGraph with 480 nodes and 664 edges\n",
      "Montichiari\n",
      "MultiGraph with 1130 nodes and 1509 edges\n",
      "Brescia\n",
      "MultiGraph with 3925 nodes and 5464 edges\n",
      "Roma\n",
      "MultiGraph with 4729 nodes and 7277 edges\n"
     ]
    }
   ],
   "source": [
    "for c in places:\n",
    "    name = names[places.index(c)]\n",
    "    print(name)\n",
    "    graph = ox.graph_from_point(c,dist=3000,network_type=\"drive\")\n",
    "    # conversions\n",
    "    graph = nx.convert_node_labels_to_integers(graph)\n",
    "    graph = graph.to_undirected()\n",
    "    ox.save_graphml(graph,filepath='data/'+name+'_graph.xml')\n",
    "    \n",
    "    #ox.plot_graph(graph, node_size=2, figsize=(18,18))\n",
    " \n",
    "    print(graph)\n",
    "    "
   ]
  },
  {
   "cell_type": "markdown",
   "id": "744b613b",
   "metadata": {},
   "source": [
    "## Load graphs"
   ]
  },
  {
   "cell_type": "code",
   "execution_count": 3,
   "id": "0369e691",
   "metadata": {
    "scrolled": false
   },
   "outputs": [
    {
     "name": "stdout",
     "output_type": "stream",
     "text": [
      "Visano\n",
      "MultiGraph with 297 nodes and 378 edges\n",
      "Asola\n",
      "MultiGraph with 480 nodes and 664 edges\n",
      "Montichiari\n",
      "MultiGraph with 1130 nodes and 1509 edges\n",
      "Brescia\n",
      "MultiGraph with 3925 nodes and 5464 edges\n",
      "Roma\n",
      "MultiGraph with 4729 nodes and 7277 edges\n"
     ]
    }
   ],
   "source": [
    "for name in names:\n",
    "    \n",
    "    filename = 'data/' + name + '_graph.xml'\n",
    "    g = ox.load_graphml(filepath=filename)\n",
    "    print(name)\n",
    "    print(g)\n",
    "    \n",
    "    #ox.plot_graph(g, node_size=2, figsize=(18,18))"
   ]
  },
  {
   "cell_type": "markdown",
   "id": "f1bc3bf0",
   "metadata": {},
   "source": [
    "## Dijkstra"
   ]
  },
  {
   "cell_type": "markdown",
   "id": "bde770b4",
   "metadata": {},
   "source": [
    "Definizione della funzione per la creazione della stringa nella formattazione corretta per la lettura da parte di Minizinc"
   ]
  },
  {
   "cell_type": "code",
   "execution_count": 4,
   "id": "41effd1c",
   "metadata": {},
   "outputs": [],
   "source": [
    "def dataStringGenerator(df, nome_variabile):\n",
    "    stringa = nome_variabile +\" = [\";\n",
    "    ## sezione per la matrice delle distanze\n",
    "    if df.shape[0] == df.shape[1]:\n",
    "        for i in range(df.shape[0]):\n",
    "            if i == 0:\n",
    "                stringa = stringa + \"| \"\n",
    "            else:\n",
    "                stringa = stringa + \"         | \"\n",
    "            for j in range(df.shape[1]):\n",
    "                stringa = stringa + str(df.iat[i, j]) \n",
    "                if j != len(df)-1:\n",
    "                    stringa = stringa + \", \"\n",
    "                else:\n",
    "                    stringa = stringa +  os.linesep # aggiunta di \\n a fine della riga \n",
    "\n",
    "        stringa = stringa + \"         |];\"\n",
    "    # sezione per i semplici array di numeri\n",
    "    else:\n",
    "        for i in range(df.shape[0]):\n",
    "            if i != df.shape[0]-1:\n",
    "                stringa = stringa + str(df.iat[i,0]) + \", \"\n",
    "            else:\n",
    "                stringa = stringa + str(df.iat[i,0])\n",
    "        \n",
    "        stringa = stringa + \"];\"\n",
    "    \n",
    "    return stringa"
   ]
  },
  {
   "cell_type": "code",
   "execution_count": 22,
   "id": "bd059fab",
   "metadata": {},
   "outputs": [
    {
     "name": "stdout",
     "output_type": "stream",
     "text": [
      "Visano\n"
     ]
    },
    {
     "name": "stderr",
     "output_type": "stream",
     "text": [
      "/tmp/ipykernel_100768/4002206819.py:21: FutureWarning: In a future version, passing float-dtype values and an integer dtype to DataFrame will retain floating dtype if they cannot be cast losslessly (matching Series behavior). To retain the old behavior, use DataFrame(data).astype(dtype)\n",
      "  string = dataStringGenerator(pd.DataFrame(mDistSortedScaled ,dtype=int), \"mdist\")\n"
     ]
    }
   ],
   "source": [
    "mDists = []\n",
    "\n",
    "for name in ['Visano']:#names:\n",
    "    \n",
    "    print(name)\n",
    "    \n",
    "    filename = 'data/' + name + '_graph.xml'\n",
    "    g = ox.load_graphml(filepath=filename)\n",
    "    \n",
    "    \n",
    "    labels = nx.get_edge_attributes(g, 'length')\n",
    "    dictDist = dict(nx.all_pairs_dijkstra_path_length(g,weight='length'))\n",
    "    mDist = pd.DataFrame(dictDist)\n",
    "    #mDists.append(mDist)\n",
    "    mDistSorted = mDist.sort_index()\n",
    "    \n",
    "    # Scale all distances between 0..14\n",
    "    scaler = MinMaxScaler(feature_range=(0, 7))\n",
    "    mDistSortedScaled = scaler.fit_transform(mDistSorted)\n",
    "    \n",
    "    string = dataStringGenerator(pd.DataFrame(mDistSortedScaled ,dtype=int), \"mdist\")\n",
    "    \n",
    "    mDistSortedScaled\n",
    "    #mDistSortedScaled.to_csv('data/' + name + '_dijkstra.csv')\n",
    "    \n",
    "    #filename2write = 'data/' + name + '_dijkstra.dzn'\n",
    "    #file = open(filename2write, 'w')\n",
    "    #file.write(string + os.linesep)\n",
    "    #file.close()\n",
    "\n",
    "    #print(string)\n",
    "    \n",
    "    pd.DataFrame(mDistSortedScaled).to_csv('data/' + name + '_dijkstra.csv', index=False)\n"
   ]
  },
  {
   "cell_type": "code",
   "execution_count": 23,
   "id": "39e9737e",
   "metadata": {},
   "outputs": [
    {
     "data": {
      "text/html": [
       "<div>\n",
       "<style scoped>\n",
       "    .dataframe tbody tr th:only-of-type {\n",
       "        vertical-align: middle;\n",
       "    }\n",
       "\n",
       "    .dataframe tbody tr th {\n",
       "        vertical-align: top;\n",
       "    }\n",
       "\n",
       "    .dataframe thead th {\n",
       "        text-align: right;\n",
       "    }\n",
       "</style>\n",
       "<table border=\"1\" class=\"dataframe\">\n",
       "  <thead>\n",
       "    <tr style=\"text-align: right;\">\n",
       "      <th></th>\n",
       "      <th>0</th>\n",
       "      <th>1</th>\n",
       "      <th>2</th>\n",
       "      <th>3</th>\n",
       "      <th>4</th>\n",
       "      <th>5</th>\n",
       "      <th>6</th>\n",
       "      <th>7</th>\n",
       "      <th>8</th>\n",
       "      <th>9</th>\n",
       "      <th>...</th>\n",
       "      <th>287</th>\n",
       "      <th>288</th>\n",
       "      <th>289</th>\n",
       "      <th>290</th>\n",
       "      <th>291</th>\n",
       "      <th>292</th>\n",
       "      <th>293</th>\n",
       "      <th>294</th>\n",
       "      <th>295</th>\n",
       "      <th>296</th>\n",
       "    </tr>\n",
       "  </thead>\n",
       "  <tbody>\n",
       "    <tr>\n",
       "      <th>0</th>\n",
       "      <td>0.000000</td>\n",
       "      <td>1.253784</td>\n",
       "      <td>0.885569</td>\n",
       "      <td>0.858802</td>\n",
       "      <td>0.846488</td>\n",
       "      <td>0.832392</td>\n",
       "      <td>0.484368</td>\n",
       "      <td>0.464897</td>\n",
       "      <td>0.454539</td>\n",
       "      <td>0.426012</td>\n",
       "      <td>...</td>\n",
       "      <td>6.302817</td>\n",
       "      <td>6.319487</td>\n",
       "      <td>6.145857</td>\n",
       "      <td>6.033958</td>\n",
       "      <td>4.788728</td>\n",
       "      <td>4.828391</td>\n",
       "      <td>0.896345</td>\n",
       "      <td>0.546537</td>\n",
       "      <td>0.594228</td>\n",
       "      <td>0.688361</td>\n",
       "    </tr>\n",
       "    <tr>\n",
       "      <th>1</th>\n",
       "      <td>1.161266</td>\n",
       "      <td>0.000000</td>\n",
       "      <td>0.312281</td>\n",
       "      <td>0.335032</td>\n",
       "      <td>0.345475</td>\n",
       "      <td>0.357430</td>\n",
       "      <td>0.652539</td>\n",
       "      <td>0.669565</td>\n",
       "      <td>0.678350</td>\n",
       "      <td>0.704047</td>\n",
       "      <td>...</td>\n",
       "      <td>5.166151</td>\n",
       "      <td>5.209999</td>\n",
       "      <td>5.187789</td>\n",
       "      <td>5.220456</td>\n",
       "      <td>3.514110</td>\n",
       "      <td>3.576636</td>\n",
       "      <td>1.884462</td>\n",
       "      <td>1.283606</td>\n",
       "      <td>1.325850</td>\n",
       "      <td>1.432781</td>\n",
       "    </tr>\n",
       "    <tr>\n",
       "      <th>2</th>\n",
       "      <td>0.858522</td>\n",
       "      <td>0.326863</td>\n",
       "      <td>0.000000</td>\n",
       "      <td>0.023813</td>\n",
       "      <td>0.034744</td>\n",
       "      <td>0.047257</td>\n",
       "      <td>0.356146</td>\n",
       "      <td>0.373968</td>\n",
       "      <td>0.383162</td>\n",
       "      <td>0.409596</td>\n",
       "      <td>...</td>\n",
       "      <td>5.706810</td>\n",
       "      <td>5.737731</td>\n",
       "      <td>5.722068</td>\n",
       "      <td>5.751001</td>\n",
       "      <td>3.846405</td>\n",
       "      <td>3.902970</td>\n",
       "      <td>1.546517</td>\n",
       "      <td>0.965862</td>\n",
       "      <td>1.010454</td>\n",
       "      <td>1.111868</td>\n",
       "    </tr>\n",
       "    <tr>\n",
       "      <th>3</th>\n",
       "      <td>0.835414</td>\n",
       "      <td>0.351874</td>\n",
       "      <td>0.023895</td>\n",
       "      <td>0.000000</td>\n",
       "      <td>0.010968</td>\n",
       "      <td>0.023524</td>\n",
       "      <td>0.333522</td>\n",
       "      <td>0.351405</td>\n",
       "      <td>0.360631</td>\n",
       "      <td>0.387121</td>\n",
       "      <td>...</td>\n",
       "      <td>5.748179</td>\n",
       "      <td>5.778111</td>\n",
       "      <td>5.762950</td>\n",
       "      <td>5.791597</td>\n",
       "      <td>3.871831</td>\n",
       "      <td>3.927940</td>\n",
       "      <td>1.520722</td>\n",
       "      <td>0.941609</td>\n",
       "      <td>0.986380</td>\n",
       "      <td>1.087373</td>\n",
       "    </tr>\n",
       "    <tr>\n",
       "      <th>4</th>\n",
       "      <td>0.824728</td>\n",
       "      <td>0.363411</td>\n",
       "      <td>0.034917</td>\n",
       "      <td>0.010985</td>\n",
       "      <td>0.000000</td>\n",
       "      <td>0.012576</td>\n",
       "      <td>0.323061</td>\n",
       "      <td>0.340971</td>\n",
       "      <td>0.350211</td>\n",
       "      <td>0.376728</td>\n",
       "      <td>...</td>\n",
       "      <td>5.767263</td>\n",
       "      <td>5.796738</td>\n",
       "      <td>5.781808</td>\n",
       "      <td>5.810323</td>\n",
       "      <td>3.883560</td>\n",
       "      <td>3.939459</td>\n",
       "      <td>1.508794</td>\n",
       "      <td>0.930393</td>\n",
       "      <td>0.975247</td>\n",
       "      <td>1.076046</td>\n",
       "    </tr>\n",
       "  </tbody>\n",
       "</table>\n",
       "<p>5 rows × 297 columns</p>\n",
       "</div>"
      ],
      "text/plain": [
       "          0         1         2         3         4         5         6  \\\n",
       "0  0.000000  1.253784  0.885569  0.858802  0.846488  0.832392  0.484368   \n",
       "1  1.161266  0.000000  0.312281  0.335032  0.345475  0.357430  0.652539   \n",
       "2  0.858522  0.326863  0.000000  0.023813  0.034744  0.047257  0.356146   \n",
       "3  0.835414  0.351874  0.023895  0.000000  0.010968  0.023524  0.333522   \n",
       "4  0.824728  0.363411  0.034917  0.010985  0.000000  0.012576  0.323061   \n",
       "\n",
       "          7         8         9  ...       287       288       289       290  \\\n",
       "0  0.464897  0.454539  0.426012  ...  6.302817  6.319487  6.145857  6.033958   \n",
       "1  0.669565  0.678350  0.704047  ...  5.166151  5.209999  5.187789  5.220456   \n",
       "2  0.373968  0.383162  0.409596  ...  5.706810  5.737731  5.722068  5.751001   \n",
       "3  0.351405  0.360631  0.387121  ...  5.748179  5.778111  5.762950  5.791597   \n",
       "4  0.340971  0.350211  0.376728  ...  5.767263  5.796738  5.781808  5.810323   \n",
       "\n",
       "        291       292       293       294       295       296  \n",
       "0  4.788728  4.828391  0.896345  0.546537  0.594228  0.688361  \n",
       "1  3.514110  3.576636  1.884462  1.283606  1.325850  1.432781  \n",
       "2  3.846405  3.902970  1.546517  0.965862  1.010454  1.111868  \n",
       "3  3.871831  3.927940  1.520722  0.941609  0.986380  1.087373  \n",
       "4  3.883560  3.939459  1.508794  0.930393  0.975247  1.076046  \n",
       "\n",
       "[5 rows x 297 columns]"
      ]
     },
     "execution_count": 23,
     "metadata": {},
     "output_type": "execute_result"
    }
   ],
   "source": [
    "df = pd.read_csv('data/Visano_dijkstra.csv',index_col=False)\n",
    "df.head()"
   ]
  },
  {
   "cell_type": "code",
   "execution_count": 56,
   "id": "eac86186",
   "metadata": {},
   "outputs": [
    {
     "name": "stdout",
     "output_type": "stream",
     "text": [
      "[256, 25, 100, 2]\n"
     ]
    },
    {
     "ename": "ValueError",
     "evalue": "Cannot index with multidimensional key",
     "output_type": "error",
     "traceback": [
      "\u001b[0;31m---------------------------------------------------------------------------\u001b[0m",
      "\u001b[0;31mValueError\u001b[0m                                Traceback (most recent call last)",
      "\u001b[0;32m/tmp/ipykernel_100768/3006797833.py\u001b[0m in \u001b[0;36m<module>\u001b[0;34m\u001b[0m\n\u001b[1;32m     10\u001b[0m \u001b[0;34m\u001b[0m\u001b[0m\n\u001b[1;32m     11\u001b[0m \u001b[0mdf_r\u001b[0m \u001b[0;34m=\u001b[0m \u001b[0mdf\u001b[0m\u001b[0;34m[\u001b[0m\u001b[0;34m[\u001b[0m\u001b[0mstr\u001b[0m\u001b[0;34m(\u001b[0m\u001b[0md\u001b[0m\u001b[0;34m)\u001b[0m \u001b[0;32mfor\u001b[0m \u001b[0md\u001b[0m \u001b[0;32min\u001b[0m \u001b[0mdest\u001b[0m\u001b[0;34m]\u001b[0m\u001b[0;34m]\u001b[0m\u001b[0;34m\u001b[0m\u001b[0;34m\u001b[0m\u001b[0m\n\u001b[0;32m---> 12\u001b[0;31m \u001b[0mdf_r\u001b[0m \u001b[0;34m=\u001b[0m \u001b[0mdf_r\u001b[0m\u001b[0;34m.\u001b[0m\u001b[0mloc\u001b[0m\u001b[0;34m[\u001b[0m\u001b[0mdest\u001b[0m\u001b[0;34m]\u001b[0m\u001b[0;34m\u001b[0m\u001b[0;34m\u001b[0m\u001b[0m\n\u001b[0m\u001b[1;32m     13\u001b[0m \u001b[0mdf_r\u001b[0m \u001b[0;34m=\u001b[0m \u001b[0mdf_r\u001b[0m\u001b[0;34m.\u001b[0m\u001b[0msort_index\u001b[0m\u001b[0;34m(\u001b[0m\u001b[0;34m)\u001b[0m\u001b[0;34m\u001b[0m\u001b[0;34m\u001b[0m\u001b[0m\n\u001b[1;32m     14\u001b[0m \u001b[0mdf_r\u001b[0m \u001b[0;34m=\u001b[0m \u001b[0mdf_r\u001b[0m\u001b[0;34m.\u001b[0m\u001b[0mastype\u001b[0m\u001b[0;34m(\u001b[0m\u001b[0mint\u001b[0m\u001b[0;34m)\u001b[0m\u001b[0;34m\u001b[0m\u001b[0;34m\u001b[0m\u001b[0m\n",
      "\u001b[0;32m~/anaconda3/envs/app-ia/lib/python3.8/site-packages/pandas/core/indexing.py\u001b[0m in \u001b[0;36m__getitem__\u001b[0;34m(self, key)\u001b[0m\n\u001b[1;32m    929\u001b[0m \u001b[0;34m\u001b[0m\u001b[0m\n\u001b[1;32m    930\u001b[0m             \u001b[0mmaybe_callable\u001b[0m \u001b[0;34m=\u001b[0m \u001b[0mcom\u001b[0m\u001b[0;34m.\u001b[0m\u001b[0mapply_if_callable\u001b[0m\u001b[0;34m(\u001b[0m\u001b[0mkey\u001b[0m\u001b[0;34m,\u001b[0m \u001b[0mself\u001b[0m\u001b[0;34m.\u001b[0m\u001b[0mobj\u001b[0m\u001b[0;34m)\u001b[0m\u001b[0;34m\u001b[0m\u001b[0;34m\u001b[0m\u001b[0m\n\u001b[0;32m--> 931\u001b[0;31m             \u001b[0;32mreturn\u001b[0m \u001b[0mself\u001b[0m\u001b[0;34m.\u001b[0m\u001b[0m_getitem_axis\u001b[0m\u001b[0;34m(\u001b[0m\u001b[0mmaybe_callable\u001b[0m\u001b[0;34m,\u001b[0m \u001b[0maxis\u001b[0m\u001b[0;34m=\u001b[0m\u001b[0maxis\u001b[0m\u001b[0;34m)\u001b[0m\u001b[0;34m\u001b[0m\u001b[0;34m\u001b[0m\u001b[0m\n\u001b[0m\u001b[1;32m    932\u001b[0m \u001b[0;34m\u001b[0m\u001b[0m\n\u001b[1;32m    933\u001b[0m     \u001b[0;32mdef\u001b[0m \u001b[0m_is_scalar_access\u001b[0m\u001b[0;34m(\u001b[0m\u001b[0mself\u001b[0m\u001b[0;34m,\u001b[0m \u001b[0mkey\u001b[0m\u001b[0;34m:\u001b[0m \u001b[0mtuple\u001b[0m\u001b[0;34m)\u001b[0m\u001b[0;34m:\u001b[0m\u001b[0;34m\u001b[0m\u001b[0;34m\u001b[0m\u001b[0m\n",
      "\u001b[0;32m~/anaconda3/envs/app-ia/lib/python3.8/site-packages/pandas/core/indexing.py\u001b[0m in \u001b[0;36m_getitem_axis\u001b[0;34m(self, key, axis)\u001b[0m\n\u001b[1;32m   1149\u001b[0m \u001b[0;34m\u001b[0m\u001b[0m\n\u001b[1;32m   1150\u001b[0m                 \u001b[0;32mif\u001b[0m \u001b[0mhasattr\u001b[0m\u001b[0;34m(\u001b[0m\u001b[0mkey\u001b[0m\u001b[0;34m,\u001b[0m \u001b[0;34m\"ndim\"\u001b[0m\u001b[0;34m)\u001b[0m \u001b[0;32mand\u001b[0m \u001b[0mkey\u001b[0m\u001b[0;34m.\u001b[0m\u001b[0mndim\u001b[0m \u001b[0;34m>\u001b[0m \u001b[0;36m1\u001b[0m\u001b[0;34m:\u001b[0m\u001b[0;34m\u001b[0m\u001b[0;34m\u001b[0m\u001b[0m\n\u001b[0;32m-> 1151\u001b[0;31m                     \u001b[0;32mraise\u001b[0m \u001b[0mValueError\u001b[0m\u001b[0;34m(\u001b[0m\u001b[0;34m\"Cannot index with multidimensional key\"\u001b[0m\u001b[0;34m)\u001b[0m\u001b[0;34m\u001b[0m\u001b[0;34m\u001b[0m\u001b[0m\n\u001b[0m\u001b[1;32m   1152\u001b[0m \u001b[0;34m\u001b[0m\u001b[0m\n\u001b[1;32m   1153\u001b[0m                 \u001b[0;32mreturn\u001b[0m \u001b[0mself\u001b[0m\u001b[0;34m.\u001b[0m\u001b[0m_getitem_iterable\u001b[0m\u001b[0;34m(\u001b[0m\u001b[0mkey\u001b[0m\u001b[0;34m,\u001b[0m \u001b[0maxis\u001b[0m\u001b[0;34m=\u001b[0m\u001b[0maxis\u001b[0m\u001b[0;34m)\u001b[0m\u001b[0;34m\u001b[0m\u001b[0;34m\u001b[0m\u001b[0m\n",
      "\u001b[0;31mValueError\u001b[0m: Cannot index with multidimensional key"
     ]
    }
   ],
   "source": [
    "dest = pd.DataFrame([256,25,100,2])\n",
    "\n",
    "\n",
    "dest_sort = np.array(dest)\n",
    "dest_sort = np.append(dest_sort, 0)\n",
    "dest_sort = np.sort(dest_sort)\n",
    "\n",
    "print([d  for d in dest[0]])\n",
    "#print(dest_sort)\n",
    "\n",
    "df_r = df[[str(d) for d in dest]]\n",
    "df_r = df_r.loc[dest]\n",
    "df_r = df_r.sort_index()\n",
    "df_r = df_r.astype(int)\n"
   ]
  },
  {
   "cell_type": "code",
   "execution_count": 42,
   "id": "23be9fc2",
   "metadata": {},
   "outputs": [
    {
     "name": "stdout",
     "output_type": "stream",
     "text": [
      "mdist = [| 0, 0, 6, 4, 0\n",
      "         | 0, 0, 6, 3, 0\n",
      "         | 5, 5, 0, 5, 5\n",
      "         | 4, 3, 5, 0, 4\n",
      "         | 0, 0, 6, 4, 0\n",
      "         |];\n"
     ]
    }
   ],
   "source": [
    "string = dataStringGenerator(df_r, \"mdist\")\n",
    "print(string)"
   ]
  },
  {
   "cell_type": "code",
   "execution_count": null,
   "id": "0aacb36b",
   "metadata": {},
   "outputs": [],
   "source": [
    "[d. for d in dest]"
   ]
  },
  {
   "cell_type": "code",
   "execution_count": null,
   "id": "1166fd32",
   "metadata": {},
   "outputs": [],
   "source": [
    "# Remember: when reading model output the index will start from 1"
   ]
  }
 ],
 "metadata": {
  "kernelspec": {
   "display_name": "Python 3 (ipykernel)",
   "language": "python",
   "name": "python3"
  },
  "language_info": {
   "codemirror_mode": {
    "name": "ipython",
    "version": 3
   },
   "file_extension": ".py",
   "mimetype": "text/x-python",
   "name": "python",
   "nbconvert_exporter": "python",
   "pygments_lexer": "ipython3",
   "version": "3.8.12"
  }
 },
 "nbformat": 4,
 "nbformat_minor": 5
}
