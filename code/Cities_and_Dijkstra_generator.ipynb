{
 "cells": [
  {
   "cell_type": "code",
   "execution_count": 1,
   "id": "7c52aadd",
   "metadata": {},
   "outputs": [],
   "source": [
    "import seaborn as sb\n",
    "import os\n",
    "import time\n",
    "\n",
    "import networkx as nx\n",
    "import matplotlib.pyplot as plt\n",
    "import pandas as pd\n",
    "#import numpy as np\n",
    "#import os\n",
    "#from itertools import combinations\n",
    "#import random\n",
    "import osmnx as ox"
   ]
  },
  {
   "cell_type": "code",
   "execution_count": 2,
   "id": "5f636930",
   "metadata": {},
   "outputs": [],
   "source": [
    "names = [\"Visano\", \"Asola\",\"Montichiari\",\"Brescia\",\"Roma\"]\n",
    "places = [(45.317468,10.3694991), # Visano (BS)\n",
    "        (45.221332657542824, 10.41757427434648), # Asola (MN)\n",
    "        (45.41301145796791, 10.39169903519818), # Montichiari (BS)\n",
    "        (45.536282844234854, 10.206297121183406), # Brescia (BS)\n",
    "        (41.90343248728792, 12.496484448996995)] # Roma (RO)"
   ]
  },
  {
   "cell_type": "markdown",
   "id": "c43b85bb",
   "metadata": {},
   "source": [
    "## Download maps and save graph as .xml"
   ]
  },
  {
   "cell_type": "code",
   "execution_count": 3,
   "id": "3c795cf7",
   "metadata": {},
   "outputs": [
    {
     "name": "stdout",
     "output_type": "stream",
     "text": [
      "Visano\n",
      "MultiGraph with 297 nodes and 378 edges\n",
      "Asola\n",
      "MultiGraph with 480 nodes and 664 edges\n",
      "Montichiari\n",
      "MultiGraph with 1130 nodes and 1509 edges\n",
      "Brescia\n",
      "MultiGraph with 3925 nodes and 5464 edges\n",
      "Roma\n",
      "MultiGraph with 4729 nodes and 7277 edges\n"
     ]
    }
   ],
   "source": [
    "for c in places:\n",
    "    name = names[places.index(c)]\n",
    "    print(name)\n",
    "    graph = ox.graph_from_point(c,dist=3000,network_type=\"drive\")\n",
    "    # conversions\n",
    "    graph = nx.convert_node_labels_to_integers(graph)\n",
    "    graph = graph.to_undirected()\n",
    "    ox.save_graphml(graph,filepath='data/'+name+'_graph.xml')\n",
    "    \n",
    "    #ox.plot_graph(graph, node_size=2, figsize=(18,18))\n",
    " \n",
    "    print(graph)\n",
    "    "
   ]
  },
  {
   "cell_type": "markdown",
   "id": "744b613b",
   "metadata": {},
   "source": [
    "## Load graphs"
   ]
  },
  {
   "cell_type": "code",
   "execution_count": 4,
   "id": "0369e691",
   "metadata": {
    "scrolled": false
   },
   "outputs": [
    {
     "name": "stdout",
     "output_type": "stream",
     "text": [
      "Visano\n",
      "MultiGraph with 297 nodes and 378 edges\n",
      "Asola\n",
      "MultiGraph with 480 nodes and 664 edges\n",
      "Montichiari\n",
      "MultiGraph with 1130 nodes and 1509 edges\n",
      "Brescia\n",
      "MultiGraph with 3925 nodes and 5464 edges\n",
      "Roma\n",
      "MultiGraph with 4729 nodes and 7277 edges\n"
     ]
    }
   ],
   "source": [
    "for name in names:\n",
    "    \n",
    "    filename = 'data/' + name + '_graph.xml'\n",
    "    g = ox.load_graphml(filepath=filename)\n",
    "    print(name)\n",
    "    print(g)\n",
    "    \n",
    "    #ox.plot_graph(g, node_size=2, figsize=(18,18))"
   ]
  },
  {
   "cell_type": "markdown",
   "id": "f1bc3bf0",
   "metadata": {},
   "source": [
    "## Dijkstra"
   ]
  },
  {
   "cell_type": "markdown",
   "id": "bde770b4",
   "metadata": {},
   "source": [
    "Definizione della funzione per la creazione della stringa nella formattazione corretta per la lettura da parte di Minizinc"
   ]
  },
  {
   "cell_type": "code",
   "execution_count": 5,
   "id": "41effd1c",
   "metadata": {},
   "outputs": [],
   "source": [
    "def dataStringGenerator(df, nome_variabile):\n",
    "    stringa = nome_variabile +\" = [\";\n",
    "    ## sezione per la matrice delle distanze\n",
    "    if df.shape[0] == df.shape[1]:\n",
    "        for i in range(df.shape[0]):\n",
    "            if i == 0:\n",
    "                stringa = stringa + \"| \"\n",
    "            else:\n",
    "                stringa = stringa + \"         | \"\n",
    "            for j in range(df.shape[1]):\n",
    "                stringa = stringa + str(df.iat[i, j]) \n",
    "                if j != len(df)-1:\n",
    "                    stringa = stringa + \", \"\n",
    "                else:\n",
    "                    stringa = stringa +  os.linesep # aggiunta di \\n a fine della riga \n",
    "\n",
    "        stringa = stringa + \"         |];\"\n",
    "    # sezione per i semplici array di numeri\n",
    "    else:\n",
    "        for i in range(df.shape[0]):\n",
    "            if i != df.shape[0]-1:\n",
    "                stringa = stringa + str(df.iat[i,0]) + \", \"\n",
    "            else:\n",
    "                stringa = stringa + str(df.iat[i,0])\n",
    "        \n",
    "        stringa = stringa + \"];\"\n",
    "    \n",
    "    return stringa"
   ]
  },
  {
   "cell_type": "code",
   "execution_count": 6,
   "id": "bd059fab",
   "metadata": {},
   "outputs": [
    {
     "name": "stdout",
     "output_type": "stream",
     "text": [
      "Visano\n",
      "297\n",
      "Asola\n",
      "480\n",
      "Montichiari\n",
      "1130\n",
      "Brescia\n",
      "3925\n",
      "Roma\n",
      "4729\n"
     ]
    }
   ],
   "source": [
    "mDists = []\n",
    "\n",
    "for name in names:\n",
    "    \n",
    "    print(name)\n",
    "    \n",
    "    filename = 'data/' + name + '_graph.xml'\n",
    "    g = ox.load_graphml(filepath=filename)\n",
    "    \n",
    "    \n",
    "    labels = nx.get_edge_attributes(g, 'length')\n",
    "    dictDist = dict(nx.all_pairs_dijkstra_path_length(g,weight='length'))\n",
    "    mDist = pd.DataFrame(dictDist)\n",
    "    #mDists.append(mDist)\n",
    "    mDistSorted = mDist.sort_index()\n",
    "\n",
    "    # mDistSorted contains the distances in meter\n",
    "    # mDistSorted/500 means that in one minute the deliver travel 500 meters (30km/h) on average\n",
    "    string = dataStringGenerator(pd.DataFrame(mDistSorted/500,dtype=int), \"mdist\")\n",
    "    \n",
    "    filename2write = 'data/' + name + '_dijkstra.dzn'\n",
    "    file = open(filename2write, 'w')\n",
    "    file.write(string + os.linesep)\n",
    "    file.close()\n",
    "\n",
    "    print(mDist.shape[0])"
   ]
  },
  {
   "cell_type": "code",
   "execution_count": null,
   "id": "39e9737e",
   "metadata": {},
   "outputs": [],
   "source": []
  }
 ],
 "metadata": {
  "kernelspec": {
   "display_name": "Python 3 (ipykernel)",
   "language": "python",
   "name": "python3"
  },
  "language_info": {
   "codemirror_mode": {
    "name": "ipython",
    "version": 3
   },
   "file_extension": ".py",
   "mimetype": "text/x-python",
   "name": "python",
   "nbconvert_exporter": "python",
   "pygments_lexer": "ipython3",
   "version": "3.8.12"
  }
 },
 "nbformat": 4,
 "nbformat_minor": 5
}
