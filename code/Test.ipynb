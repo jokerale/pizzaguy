{
 "cells": [
  {
   "cell_type": "markdown",
   "id": "89dc0081",
   "metadata": {},
   "source": [
    "## Test"
   ]
  },
  {
   "cell_type": "markdown",
   "id": "a68de9f1",
   "metadata": {},
   "source": [
    "In this file we will test our model on 5 city of increasing size (which graphs and other stuff are already generated) and then plot execution times and maybe other things."
   ]
  },
  {
   "cell_type": "markdown",
   "id": "c9ac1686",
   "metadata": {},
   "source": [
    "`N` and `d` can be randomly generated, or maybe not."
   ]
  },
  {
   "cell_type": "markdown",
   "id": "1e705637",
   "metadata": {},
   "source": [
    "Using `launch.py` we can launch our solver with:\n",
    "- `N` randomly generated order\n",
    "- `d` deliverers\n",
    "- on a city `c`\n",
    "- with timeout `t`"
   ]
  },
  {
   "cell_type": "markdown",
   "id": "45d2f097",
   "metadata": {},
   "source": [
    "These ideas can be used to create a single program that execute for *x* times the solver for each city , using `N` and `d` generated from a selected probability distribution."
   ]
  },
  {
   "cell_type": "code",
   "execution_count": 24,
   "id": "3a999862",
   "metadata": {},
   "outputs": [],
   "source": [
    "import pandas as pd\n",
    "import seaborn as sb\n",
    "import os\n",
    "import numpy as np"
   ]
  },
  {
   "cell_type": "code",
   "execution_count": 42,
   "id": "8c3dfce3",
   "metadata": {},
   "outputs": [],
   "source": [
    "names = [\"Visano\", \"Asola\",\"Montichiari\",\"Brescia\",\"Roma\"]"
   ]
  },
  {
   "cell_type": "markdown",
   "id": "812c77c2",
   "metadata": {},
   "source": [
    "**NB** Time is measured in second (by launch.py)"
   ]
  },
  {
   "cell_type": "code",
   "execution_count": 43,
   "id": "8bd9a3a9",
   "metadata": {},
   "outputs": [
    {
     "name": "stdout",
     "output_type": "stream",
     "text": [
      "python3 launch.py -N 10 -d 3 -c Visano -t 300\n",
      "python3 launch.py -N 10 -d 3 -c Visano -t 300\n",
      "python3 launch.py -N 10 -d 3 -c Visano -t 300\n",
      "python3 launch.py -N 10 -d 3 -c Visano -t 300\n",
      "python3 launch.py -N 10 -d 3 -c Visano -t 300\n",
      "python3 launch.py -N 10 -d 3 -c Visano -t 300\n",
      "python3 launch.py -N 10 -d 3 -c Visano -t 300\n",
      "python3 launch.py -N 10 -d 3 -c Visano -t 300\n",
      "python3 launch.py -N 10 -d 3 -c Visano -t 300\n",
      "python3 launch.py -N 10 -d 3 -c Visano -t 300\n",
      "python3 launch.py -N 10 -d 3 -c Visano -t 300\n",
      "python3 launch.py -N 10 -d 3 -c Visano -t 300\n",
      "python3 launch.py -N 10 -d 3 -c Visano -t 300\n",
      "python3 launch.py -N 10 -d 3 -c Visano -t 300\n",
      "Visano: 4/14 are unsat.\n",
      "python3 launch.py -N 10 -d 3 -c Asola -t 300\n",
      "python3 launch.py -N 10 -d 3 -c Asola -t 300\n",
      "python3 launch.py -N 10 -d 3 -c Asola -t 300\n",
      "python3 launch.py -N 10 -d 3 -c Asola -t 300\n",
      "python3 launch.py -N 10 -d 3 -c Asola -t 300\n",
      "python3 launch.py -N 10 -d 3 -c Asola -t 300\n",
      "python3 launch.py -N 10 -d 3 -c Asola -t 300\n",
      "python3 launch.py -N 10 -d 3 -c Asola -t 300\n",
      "python3 launch.py -N 10 -d 3 -c Asola -t 300\n",
      "python3 launch.py -N 10 -d 3 -c Asola -t 300\n",
      "python3 launch.py -N 10 -d 3 -c Asola -t 300\n",
      "python3 launch.py -N 10 -d 3 -c Asola -t 300\n",
      "python3 launch.py -N 10 -d 3 -c Asola -t 300\n",
      "python3 launch.py -N 10 -d 3 -c Asola -t 300\n",
      "python3 launch.py -N 10 -d 3 -c Asola -t 300\n",
      "python3 launch.py -N 10 -d 3 -c Asola -t 300\n",
      "Asola: 6/16 are unsat.\n",
      "python3 launch.py -N 10 -d 3 -c Montichiari -t 300\n",
      "python3 launch.py -N 10 -d 3 -c Montichiari -t 300\n",
      "python3 launch.py -N 10 -d 3 -c Montichiari -t 300\n",
      "python3 launch.py -N 10 -d 3 -c Montichiari -t 300\n",
      "python3 launch.py -N 10 -d 3 -c Montichiari -t 300\n",
      "python3 launch.py -N 10 -d 3 -c Montichiari -t 300\n",
      "python3 launch.py -N 10 -d 3 -c Montichiari -t 300\n",
      "python3 launch.py -N 10 -d 3 -c Montichiari -t 300\n",
      "python3 launch.py -N 10 -d 3 -c Montichiari -t 300\n",
      "python3 launch.py -N 10 -d 3 -c Montichiari -t 300\n",
      "python3 launch.py -N 10 -d 3 -c Montichiari -t 300\n",
      "python3 launch.py -N 10 -d 3 -c Montichiari -t 300\n",
      "python3 launch.py -N 10 -d 3 -c Montichiari -t 300\n",
      "python3 launch.py -N 10 -d 3 -c Montichiari -t 300\n",
      "python3 launch.py -N 10 -d 3 -c Montichiari -t 300\n",
      "python3 launch.py -N 10 -d 3 -c Montichiari -t 300\n",
      "Montichiari: 6/16 are unsat.\n",
      "python3 launch.py -N 10 -d 3 -c Brescia -t 300\n",
      "python3 launch.py -N 10 -d 3 -c Brescia -t 300\n",
      "python3 launch.py -N 10 -d 3 -c Brescia -t 300\n",
      "python3 launch.py -N 10 -d 3 -c Brescia -t 300\n",
      "python3 launch.py -N 10 -d 3 -c Brescia -t 300\n",
      "python3 launch.py -N 10 -d 3 -c Brescia -t 300\n",
      "python3 launch.py -N 10 -d 3 -c Brescia -t 300\n",
      "python3 launch.py -N 10 -d 3 -c Brescia -t 300\n",
      "python3 launch.py -N 10 -d 3 -c Brescia -t 300\n",
      "python3 launch.py -N 10 -d 3 -c Brescia -t 300\n",
      "Brescia: 0/10 are unsat.\n",
      "python3 launch.py -N 10 -d 3 -c Roma -t 300\n",
      "python3 launch.py -N 10 -d 3 -c Roma -t 300\n",
      "python3 launch.py -N 10 -d 3 -c Roma -t 300\n",
      "python3 launch.py -N 10 -d 3 -c Roma -t 300\n",
      "python3 launch.py -N 10 -d 3 -c Roma -t 300\n",
      "python3 launch.py -N 10 -d 3 -c Roma -t 300\n",
      "python3 launch.py -N 10 -d 3 -c Roma -t 300\n",
      "python3 launch.py -N 10 -d 3 -c Roma -t 300\n",
      "python3 launch.py -N 10 -d 3 -c Roma -t 300\n",
      "python3 launch.py -N 10 -d 3 -c Roma -t 300\n",
      "Roma: 0/10 are unsat.\n"
     ]
    }
   ],
   "source": [
    "x = 10; # not unsat times for each city\n",
    "times = pd.DataFrame(columns=['city','time','unsat'])\n",
    "N = 10\n",
    "d = 3\n",
    "\n",
    "for n in names:\n",
    "    \n",
    "    unsats = 0\n",
    "    c = 0\n",
    "    \n",
    "    while (c < x):\n",
    "        \n",
    "        cmd = 'python3 launch.py -N ' + str(N) + ' -d ' + str(d) + ' -c ' + str(n) + ' -t 300' \n",
    "        print(cmd)\n",
    "        out = os.popen(cmd).read()\n",
    "        unsat = ('UNSAT' in out)\n",
    "        \n",
    "        unsats += unsat\n",
    "        c += not unsat\n",
    "        \n",
    "        line = [line for line in out.split('\\n') if \"TIME: \" in line]\n",
    "        time = float(line[0].split(':')[1])\n",
    "        \n",
    "        # Add line to dataframe\n",
    "        row = {'city': n, 'time': time,'unsat': unsat}\n",
    "        times = times.append(row, ignore_index = True)\n",
    "\n",
    "        \n",
    "    # update dataframe csv\n",
    "    times.to_csv('res.csv', index=False)\n",
    "    print(n + ': ' + str(unsats) + '/' + str(unsats+x) + ' are unsat.')\n",
    "        "
   ]
  },
  {
   "cell_type": "code",
   "execution_count": 45,
   "id": "3a751052",
   "metadata": {},
   "outputs": [
    {
     "name": "stdout",
     "output_type": "stream",
     "text": [
      "      city        time  unsat\n",
      "0   Visano    4.170586  False\n",
      "1   Visano    3.730465   True\n",
      "2   Visano    4.226416  False\n",
      "3   Visano    3.849806  False\n",
      "4   Visano    3.876445  False\n",
      "..     ...         ...    ...\n",
      "61    Roma  301.479190  False\n",
      "62    Roma  300.790893  False\n",
      "63    Roma  300.853995  False\n",
      "64    Roma  302.325188  False\n",
      "65    Roma  300.835473  False\n",
      "\n",
      "[66 rows x 3 columns]\n"
     ]
    },
    {
     "data": {
      "image/png": "[encoded data removed]",
      "text/plain": [
       "<Figure size 432x288 with 1 Axes>"
      ]
     },
     "metadata": {
      "needs_background": "light"
     },
     "output_type": "display_data"
    }
   ],
   "source": [
    "times = pd.read_csv('res.csv')  \n",
    "print(times)\n",
    "\n",
    "plot = sb.barplot(data=times, x=\"city\", y=\"time\", hue=\"unsat\")\n",
    "plot.set_title('N = 10, d = 3, timeout = 5 minutes')\n",
    "plot.set_ylabel('time (seconds)')\n",
    "fig = plot.get_figure()\n",
    "fig.savefig(\"out.png\") "
   ]
  },
  {
   "cell_type": "code",
   "execution_count": null,
   "id": "4795ed98",
   "metadata": {},
   "outputs": [],
   "source": []
  }
 ],
 "metadata": {
  "kernelspec": {
   "display_name": "Python 3 (ipykernel)",
   "language": "python",
   "name": "python3"
  },
  "language_info": {
   "codemirror_mode": {
    "name": "ipython",
    "version": 3
   },
   "file_extension": ".py",
   "mimetype": "text/x-python",
   "name": "python",
   "nbconvert_exporter": "python",
   "pygments_lexer": "ipython3",
   "version": "3.8.12"
  }
 },
 "nbformat": 4,
 "nbformat_minor": 5
}
