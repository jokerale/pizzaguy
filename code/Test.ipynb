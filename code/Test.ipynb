{
 "cells": [
  {
   "cell_type": "markdown",
   "id": "89dc0081",
   "metadata": {},
   "source": [
    "## Test"
   ]
  },
  {
   "cell_type": "markdown",
   "id": "a68de9f1",
   "metadata": {},
   "source": [
    "In this file we will test our model on 5 city of increasing size (which graphs and other stuff are already generated) and then plot execution times and maybe other things."
   ]
  },
  {
   "cell_type": "markdown",
   "id": "c9ac1686",
   "metadata": {},
   "source": [
    "`N` and `d` can be randomly generated, or maybe not."
   ]
  },
  {
   "cell_type": "markdown",
   "id": "1e705637",
   "metadata": {},
   "source": [
    "Using `launch.py` we can launch our solver with:\n",
    "- `N` randomly generated order\n",
    "- `d` deliverers\n",
    "- on a city `c`\n",
    "- with timeout `t`"
   ]
  },
  {
   "cell_type": "markdown",
   "id": "45d2f097",
   "metadata": {},
   "source": [
    "These ideas can be used to create a single program that execute for *x* times the solver for each city , using `N` and `d` generated from a selected probability distribution."
   ]
  },
  {
   "cell_type": "code",
   "execution_count": null,
   "id": "8c3dfce3",
   "metadata": {},
   "outputs": [],
   "source": []
  }
 ],
 "metadata": {
  "kernelspec": {
   "display_name": "Python 3 (ipykernel)",
   "language": "python",
   "name": "python3"
  },
  "language_info": {
   "codemirror_mode": {
    "name": "ipython",
    "version": 3
   },
   "file_extension": ".py",
   "mimetype": "text/x-python",
   "name": "python",
   "nbconvert_exporter": "python",
   "pygments_lexer": "ipython3",
   "version": "3.8.12"
  }
 },
 "nbformat": 4,
 "nbformat_minor": 5
}
