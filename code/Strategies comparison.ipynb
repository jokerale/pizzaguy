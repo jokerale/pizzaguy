{
 "cells": [
  {
   "cell_type": "code",
   "execution_count": null,
   "id": "f343e278",
   "metadata": {},
   "outputs": [],
   "source": [
    "# minizinc --solver Gecode --time-limit 160000 v03.mzn data/Visano_dijkstra.dzn data/temp-order-to-test.dzn --statistics"
   ]
  },
  {
   "cell_type": "code",
   "execution_count": 1,
   "id": "d7352820",
   "metadata": {},
   "outputs": [],
   "source": [
    "import pandas as pd\n",
    "import seaborn as sb\n",
    "import os\n",
    "import numpy as np"
   ]
  },
  {
   "cell_type": "code",
   "execution_count": 2,
   "id": "1cd0139e",
   "metadata": {},
   "outputs": [],
   "source": [
    "variables = [\"P\", \"X\", \"distances\", \"scheduling\", \"ea\", \"pizzas_carried\"]\n",
    "var_search_ann = [\"anti_first_fail\", \"dom_w_deg\", \"first_fail\", \"impact\", \"input_order\", \"largest\", \"max_regret\", \"most_constrained\", \"occurrence\", \"smallest\"]\n",
    "val_choice_ann = [\"indomain\", \"indomain_max\", \"indomain_median\", \"indomain_min\",\"indomain_random\",\"indomain_reverse_split\",\"indomain_split\",\"indomain_split_random\"]\n",
    "cols = [\"var\", \"vsa\", \"vca\", \"initTime\", \"solveTime\", \"solutions\", \"variables\", \"propagators\", \"propagations\", \"nodes\", \"failures\", \"restarts\", \"peakDepth\"]\n",
    "\n",
    "model = open(\"v03search.mzn\",'r')\n",
    "\n",
    "base = \"solve :: int_search( \"\n",
    "\n",
    "#cmd = 'minizinc searchV01.mzn -s'\n",
    "#print(cmd)\n",
    "#out = os.popen(cmd).read()\n",
    "stringa_file = model.read().split(\"%*\")\n",
    "model.close()\n",
    "#print(stringa_file[1])\n"
   ]
  },
  {
   "cell_type": "code",
   "execution_count": 3,
   "id": "39d61252",
   "metadata": {},
   "outputs": [],
   "source": [
    "results = pd.DataFrame(columns=cols);"
   ]
  },
  {
   "cell_type": "code",
   "execution_count": 4,
   "id": "32bff66a",
   "metadata": {},
   "outputs": [
    {
     "name": "stdout",
     "output_type": "stream",
     "text": [
      "Iteration DEFAULT Done.\n"
     ]
    }
   ],
   "source": [
    "# default\n",
    "\n",
    "nuovo_modello = stringa_file[0] + \"%*\" + os.linesep + \"solve minimize sum(total_travel);\" + os.linesep +\"%*\" + stringa_file[2]\n",
    "f = open(\"v03search.mzn\", \"w\")\n",
    "f.write(nuovo_modello)\n",
    "f.close()\n",
    "cmd = \"minizinc --solver Gecode --time-limit 160000 v03.mzn data/Visano_dijkstra.dzn data/temp-order-to-test.dzn --statistics\"\n",
    "out = os.popen(cmd).read()\n",
    "temp = [line for line in out.split(\"\\n\") if \"%%%mzn-stat: \" in line]\n",
    "stats = {}\n",
    "for k in range(3, len(cols)):\n",
    "    if [float(line.split(\"=\")[1]) for line in temp if \"%%%mzn-stat: \" + cols[k] in line] != []:\n",
    "        stats[cols[k]] = [float(line.split(\"=\")[1]) for line in temp if \"%%%mzn-stat: \" + cols[k] in line][0]\n",
    "    else:\n",
    "        stats[cols[k]] = np.NaN\n",
    "row = {\"var\": \"P\", \"vsa\": \"default\", \"vca\": \"default\"}\n",
    "row.update(stats)\n",
    "results = results.append(row, ignore_index = True)\n",
    "results.to_csv(\"resultsV03.csv\")\n",
    "print(\"Iteration DEFAULT Done.\")"
   ]
  },
  {
   "cell_type": "code",
   "execution_count": 6,
   "id": "eb32dde0",
   "metadata": {
    "scrolled": true
   },
   "outputs": [
    {
     "name": "stdout",
     "output_type": "stream",
     "text": [
      "P / 6\n",
      "anti_first_fail / 10\n",
      "indomain / 8\n",
      "Iteration Done.\n",
      "P / 6\n",
      "anti_first_fail / 10\n",
      "indomain_max / 8\n",
      "Iteration Done.\n",
      "P / 6\n",
      "anti_first_fail / 10\n",
      "indomain_median / 8\n",
      "Iteration Done.\n",
      "P / 6\n",
      "anti_first_fail / 10\n",
      "indomain_min / 8\n",
      "Iteration Done.\n",
      "P / 6\n",
      "anti_first_fail / 10\n",
      "indomain_random / 8\n"
     ]
    },
    {
     "ename": "KeyboardInterrupt",
     "evalue": "",
     "output_type": "error",
     "traceback": [
      "\u001b[0;31m---------------------------------------------------------------------------\u001b[0m",
      "\u001b[0;31mKeyboardInterrupt\u001b[0m                         Traceback (most recent call last)",
      "\u001b[0;32m/tmp/ipykernel_35162/1268449057.py\u001b[0m in \u001b[0;36m<module>\u001b[0;34m\u001b[0m\n\u001b[1;32m     17\u001b[0m             \u001b[0mcmd\u001b[0m \u001b[0;34m=\u001b[0m \u001b[0;34m\"minizinc --solver Gecode v03search.mzn data/Visano_dijkstra.dzn data/temp-order-to-test.dzn --statistics -t 160000\"\u001b[0m\u001b[0;34m\u001b[0m\u001b[0;34m\u001b[0m\u001b[0m\n\u001b[1;32m     18\u001b[0m \u001b[0;34m\u001b[0m\u001b[0m\n\u001b[0;32m---> 19\u001b[0;31m             \u001b[0mout\u001b[0m \u001b[0;34m=\u001b[0m \u001b[0mos\u001b[0m\u001b[0;34m.\u001b[0m\u001b[0mpopen\u001b[0m\u001b[0;34m(\u001b[0m\u001b[0mcmd\u001b[0m\u001b[0;34m)\u001b[0m\u001b[0;34m.\u001b[0m\u001b[0mread\u001b[0m\u001b[0;34m(\u001b[0m\u001b[0;34m)\u001b[0m\u001b[0;34m\u001b[0m\u001b[0;34m\u001b[0m\u001b[0m\n\u001b[0m\u001b[1;32m     20\u001b[0m \u001b[0;34m\u001b[0m\u001b[0m\n\u001b[1;32m     21\u001b[0m             \u001b[0mtemp\u001b[0m \u001b[0;34m=\u001b[0m \u001b[0;34m[\u001b[0m\u001b[0mline\u001b[0m \u001b[0;32mfor\u001b[0m \u001b[0mline\u001b[0m \u001b[0;32min\u001b[0m \u001b[0mout\u001b[0m\u001b[0;34m.\u001b[0m\u001b[0msplit\u001b[0m\u001b[0;34m(\u001b[0m\u001b[0;34m\"\\n\"\u001b[0m\u001b[0;34m)\u001b[0m \u001b[0;32mif\u001b[0m \u001b[0;34m\"%%%mzn-stat: \"\u001b[0m \u001b[0;32min\u001b[0m \u001b[0mline\u001b[0m\u001b[0;34m]\u001b[0m\u001b[0;34m\u001b[0m\u001b[0;34m\u001b[0m\u001b[0m\n",
      "\u001b[0;31mKeyboardInterrupt\u001b[0m: "
     ]
    }
   ],
   "source": [
    "# all the others\n",
    "\n",
    "for i in variables:\n",
    "    for j in var_search_ann:\n",
    "        for h in val_choice_ann:\n",
    "            \n",
    "            print(str(variables.index(i)) +\" / \"+ str(len(variables)))\n",
    "            print(str(var_search_ann.index(j)) +\" / \"+ str(len(var_search_ann)))\n",
    "            print(str(val_choice_ann.index(h)) +\" / \"+ str(len(val_choice_ann)))\n",
    "            \n",
    "            nuovo_modello = stringa_file[0] + \"%*\" + os.linesep + base + i + \", \" + j + \", \" + h + \") minimize sum(total_travel);\" + os.linesep +\"%*\" + stringa_file[2]\n",
    "            \n",
    "            f = open(\"v03search.mzn\", \"w\")\n",
    "            f.write(nuovo_modello)\n",
    "            f.close()\n",
    "\n",
    "            cmd = \"minizinc --solver Gecode v03search.mzn data/Visano_dijkstra.dzn data/temp-order-to-test.dzn --statistics -t 160000\"\n",
    "            \n",
    "            out = os.popen(cmd).read()\n",
    "            \n",
    "            temp = [line for line in out.split(\"\\n\") if \"%%%mzn-stat: \" in line]\n",
    "            \n",
    "            stats = {}\n",
    "            for k in range(3, len(cols)):\n",
    "                if [float(line.split(\"=\")[1]) for line in temp if \"%%%mzn-stat: \" + cols[k] in line] != []:\n",
    "                    stats[cols[k]] = [float(line.split(\"=\")[1]) for line in temp if \"%%%mzn-stat: \" + cols[k] in line][0]\n",
    "                else:\n",
    "                    stats[cols[k]] = np.NaN\n",
    "            \n",
    "            row = {\"var\": i, \"vsa\": j, \"vca\": h}\n",
    "            row.update(stats)\n",
    "            \n",
    "            results = results.append(row, ignore_index = True)\n",
    "\n",
    "            results.to_csv(\"resultsV03.csv\")\n",
    "            \n",
    "            print(\"Iteration Done.\")"
   ]
  },
  {
   "cell_type": "code",
   "execution_count": null,
   "id": "4a9cbcfc",
   "metadata": {},
   "outputs": [],
   "source": []
  },
  {
   "cell_type": "code",
   "execution_count": null,
   "id": "9cf05877",
   "metadata": {},
   "outputs": [],
   "source": []
  },
  {
   "cell_type": "code",
   "execution_count": null,
   "id": "bcb4f93b",
   "metadata": {},
   "outputs": [],
   "source": []
  },
  {
   "cell_type": "code",
   "execution_count": null,
   "id": "1e025234",
   "metadata": {},
   "outputs": [],
   "source": [
    "results.head()"
   ]
  },
  {
   "cell_type": "code",
   "execution_count": null,
   "id": "c88161d1",
   "metadata": {},
   "outputs": [],
   "source": []
  }
 ],
 "metadata": {
  "kernelspec": {
   "display_name": "Python 3 (ipykernel)",
   "language": "python",
   "name": "python3"
  },
  "language_info": {
   "codemirror_mode": {
    "name": "ipython",
    "version": 3
   },
   "file_extension": ".py",
   "mimetype": "text/x-python",
   "name": "python",
   "nbconvert_exporter": "python",
   "pygments_lexer": "ipython3",
   "version": "3.8.12"
  }
 },
 "nbformat": 4,
 "nbformat_minor": 5
}
