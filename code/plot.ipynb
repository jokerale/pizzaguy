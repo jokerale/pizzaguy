{
 "cells": [
  {
   "cell_type": "code",
   "execution_count": 2,
   "id": "84c25291",
   "metadata": {},
   "outputs": [],
   "source": [
    "import networkx as nx\n",
    "import matplotlib.pyplot as plt"
   ]
  },
  {
   "cell_type": "markdown",
   "id": "3914368a",
   "metadata": {},
   "source": [
    "##### Apertura e lettura del file"
   ]
  },
  {
   "cell_type": "code",
   "execution_count": 3,
   "id": "64f64d93",
   "metadata": {},
   "outputs": [],
   "source": [
    "# Apertura e lettura del file\n",
    "file = open(\"data.txt\",\"r\")\n",
    "data = file.read()"
   ]
  },
  {
   "cell_type": "markdown",
   "id": "6a02eaa3",
   "metadata": {},
   "source": [
    "##### Divisione dei dati letti in input e creazione delle liste contenenti i nodi e i pesi relativi"
   ]
  },
  {
   "cell_type": "code",
   "execution_count": 12,
   "id": "126325b5",
   "metadata": {},
   "outputs": [],
   "source": [
    "# Divisione del file nelle tre righe di dati\n",
    "lista = data.split(\"\\n\")\n",
    "\n",
    "# parsing in lista di interi\n",
    "da = [int(i) for i in lista[0].split(', ')]\n",
    "a = [int(i) for i in lista[1].split(', ')]\n",
    "pesi = [int(i) for i in lista[2].split(', ')]"
   ]
  },
  {
   "cell_type": "markdown",
   "id": "4a462b16",
   "metadata": {},
   "source": [
    "##### Generazione del grafo"
   ]
  },
  {
   "cell_type": "code",
   "execution_count": 11,
   "id": "70dc4796",
   "metadata": {},
   "outputs": [
    {
     "data": {
      "image/png": "[encoded data removed]",
      "text/plain": [
       "<Figure size 432x288 with 1 Axes>"
      ]
     },
     "metadata": {},
     "output_type": "display_data"
    }
   ],
   "source": [
    "g = nx.Graph()\n",
    "\n",
    "for i in range(len(da)):\n",
    "     g.add_edge(da[i],a[i], weigth=pesi[i])\n",
    "    \n",
    "nx.draw_planar(g, with_labels = True)\n",
    "#plt.savefig(\"prova.png\")"
   ]
  },
  {
   "cell_type": "code",
   "execution_count": null,
   "id": "0c69f004",
   "metadata": {},
   "outputs": [],
   "source": []
  }
 ],
 "metadata": {
  "kernelspec": {
   "display_name": "Python 3",
   "language": "python",
   "name": "python3"
  },
  "language_info": {
   "codemirror_mode": {
    "name": "ipython",
    "version": 3
   },
   "file_extension": ".py",
   "mimetype": "text/x-python",
   "name": "python",
   "nbconvert_exporter": "python",
   "pygments_lexer": "ipython3",
   "version": "3.8.8"
  }
 },
 "nbformat": 4,
 "nbformat_minor": 5
}
