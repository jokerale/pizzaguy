{
 "cells": [
  {
   "cell_type": "markdown",
   "id": "446d6a49",
   "metadata": {},
   "source": [
    "Import delle librerie"
   ]
  },
  {
   "cell_type": "code",
   "execution_count": 1,
   "id": "84c25291",
   "metadata": {},
   "outputs": [],
   "source": [
    "import networkx as nx\n",
    "import matplotlib.pyplot as plt\n",
    "import pandas as pd\n",
    "import numpy as np\n",
    "import os\n",
    "from itertools import combinations\n",
    "import random\n",
    "import osmnx as ox"
   ]
  },
  {
   "cell_type": "markdown",
   "id": "8e0e3e43",
   "metadata": {},
   "source": [
    "Definizione della funzione per la creazione della stringa nella formattazione corretta per la lettura da parte di Minizinc"
   ]
  },
  {
   "cell_type": "code",
   "execution_count": 2,
   "id": "647f7d35",
   "metadata": {},
   "outputs": [],
   "source": [
    "def dataStringGenerator(df, nome_variabile):\n",
    "    stringa = nome_variabile +\" = [\";\n",
    "    ## sezione per la matrice delle distanze\n",
    "    if df.shape[0] == df.shape[1]:\n",
    "        for i in range(df.shape[0]):\n",
    "            if i == 0:\n",
    "                stringa = stringa + \"| \"\n",
    "            else:\n",
    "                stringa = stringa + \"         | \"\n",
    "            for j in range(df.shape[1]):\n",
    "                stringa = stringa + str(df.iat[i, j]) \n",
    "                if j != len(df)-1:\n",
    "                    stringa = stringa + \", \"\n",
    "                else:\n",
    "                    stringa = stringa +  os.linesep # aggiunta di \\n a fine della riga \n",
    "\n",
    "        stringa = stringa + \"         |];\"\n",
    "    # sezione per i semplici array di numeri\n",
    "    else:\n",
    "        for i in range(df.shape[0]):\n",
    "            if i != df.shape[0]-1:\n",
    "                stringa = stringa + str(df.iat[i,0]) + \", \"\n",
    "            else:\n",
    "                stringa = stringa + str(df.iat[i,0])\n",
    "        \n",
    "        stringa = stringa + \"];\"\n",
    "    \n",
    "    return stringa"
   ]
  },
  {
   "cell_type": "markdown",
   "id": "a1851d32",
   "metadata": {},
   "source": [
    "Definizione della funzione che permette la generazione di ordini casuali\n"
   ]
  },
  {
   "cell_type": "code",
   "execution_count": 3,
   "id": "74329fab",
   "metadata": {},
   "outputs": [],
   "source": [
    "def ordersGeneretor(orari_possibili, n_pizze_max, n_nodi, n_ordini):\n",
    "    orari = np.random.choice(orari_possibili, size=n_ordini)\n",
    "    #num_pizze = np.random.randint(1, n_pizze_max+1, size=n_ordini)\n",
    "    xx = np.random.gamma(2,2, size=n_ordini)\n",
    "    num_pizze = np.zeros(n_ordini, dtype=int)\n",
    "    for i in range(n_ordini):\n",
    "        num_pizze[i] = int(np.ceil(xx[i]))\n",
    "        if num_pizze[i] > 16:\n",
    "            num_pizze[i] = 16\n",
    "            \n",
    "    dest = np.random.randint(2, n_nodi+1, size=n_ordini)\n",
    "    \n",
    "    return orari, num_pizze, dest"
   ]
  },
  {
   "cell_type": "markdown",
   "id": "3914368a",
   "metadata": {},
   "source": [
    "##### Apertura e lettura del file"
   ]
  },
  {
   "cell_type": "code",
   "execution_count": 4,
   "id": "64f64d93",
   "metadata": {},
   "outputs": [
    {
     "data": {
      "text/html": [
       "<div>\n",
       "<style scoped>\n",
       "    .dataframe tbody tr th:only-of-type {\n",
       "        vertical-align: middle;\n",
       "    }\n",
       "\n",
       "    .dataframe tbody tr th {\n",
       "        vertical-align: top;\n",
       "    }\n",
       "\n",
       "    .dataframe thead th {\n",
       "        text-align: right;\n",
       "    }\n",
       "</style>\n",
       "<table border=\"1\" class=\"dataframe\">\n",
       "  <thead>\n",
       "    <tr style=\"text-align: right;\">\n",
       "      <th></th>\n",
       "      <th>0</th>\n",
       "      <th>1</th>\n",
       "      <th>2</th>\n",
       "      <th>3</th>\n",
       "      <th>4</th>\n",
       "      <th>5</th>\n",
       "      <th>6</th>\n",
       "      <th>7</th>\n",
       "      <th>8</th>\n",
       "      <th>9</th>\n",
       "      <th>10</th>\n",
       "      <th>11</th>\n",
       "      <th>12</th>\n",
       "      <th>13</th>\n",
       "      <th>14</th>\n",
       "      <th>15</th>\n",
       "      <th>16</th>\n",
       "      <th>17</th>\n",
       "    </tr>\n",
       "  </thead>\n",
       "  <tbody>\n",
       "    <tr>\n",
       "      <th>0</th>\n",
       "      <td>1</td>\n",
       "      <td>1</td>\n",
       "      <td>1</td>\n",
       "      <td>6</td>\n",
       "      <td>5</td>\n",
       "      <td>3</td>\n",
       "      <td>2</td>\n",
       "      <td>2</td>\n",
       "      <td>7</td>\n",
       "      <td>4</td>\n",
       "      <td>10</td>\n",
       "      <td>3</td>\n",
       "      <td>9</td>\n",
       "      <td>3</td>\n",
       "      <td>8</td>\n",
       "      <td>2</td>\n",
       "      <td>8</td>\n",
       "      <td>12</td>\n",
       "    </tr>\n",
       "    <tr>\n",
       "      <th>1</th>\n",
       "      <td>4</td>\n",
       "      <td>7</td>\n",
       "      <td>6</td>\n",
       "      <td>5</td>\n",
       "      <td>12</td>\n",
       "      <td>4</td>\n",
       "      <td>3</td>\n",
       "      <td>7</td>\n",
       "      <td>13</td>\n",
       "      <td>11</td>\n",
       "      <td>11</td>\n",
       "      <td>10</td>\n",
       "      <td>10</td>\n",
       "      <td>9</td>\n",
       "      <td>9</td>\n",
       "      <td>8</td>\n",
       "      <td>13</td>\n",
       "      <td>13</td>\n",
       "    </tr>\n",
       "    <tr>\n",
       "      <th>2</th>\n",
       "      <td>3</td>\n",
       "      <td>2</td>\n",
       "      <td>1</td>\n",
       "      <td>6</td>\n",
       "      <td>4</td>\n",
       "      <td>9</td>\n",
       "      <td>2</td>\n",
       "      <td>5</td>\n",
       "      <td>7</td>\n",
       "      <td>6</td>\n",
       "      <td>4</td>\n",
       "      <td>1</td>\n",
       "      <td>2</td>\n",
       "      <td>3</td>\n",
       "      <td>2</td>\n",
       "      <td>6</td>\n",
       "      <td>3</td>\n",
       "      <td>3</td>\n",
       "    </tr>\n",
       "  </tbody>\n",
       "</table>\n",
       "</div>"
      ],
      "text/plain": [
       "   0   1   2   3   4   5   6   7   8   9   10  11  12  13  14  15  16  17\n",
       "0   1   1   1   6   5   3   2   2   7   4  10   3   9   3   8   2   8  12\n",
       "1   4   7   6   5  12   4   3   7  13  11  11  10  10   9   9   8  13  13\n",
       "2   3   2   1   6   4   9   2   5   7   6   4   1   2   3   2   6   3   3"
      ]
     },
     "execution_count": 4,
     "metadata": {},
     "output_type": "execute_result"
    }
   ],
   "source": [
    "# Apertura e lettura del file\n",
    "#file = open(\"data.txt\",\"r\")\n",
    "#data = file.read()\n",
    "\n",
    "df = pd.read_table('data.txt', sep=',', header=None)\n",
    "df"
   ]
  },
  {
   "cell_type": "markdown",
   "id": "6a02eaa3",
   "metadata": {},
   "source": [
    "##### Divisione dei dati letti in input e creazione delle liste contenenti i nodi e i pesi relativi"
   ]
  },
  {
   "cell_type": "markdown",
   "id": "1f0a78a7",
   "metadata": {},
   "source": [
    "La prima riga rappresenta il nodo di partenza di ogni arco, la seconda il node di arrivo e la terza il peso di ogni arco"
   ]
  },
  {
   "cell_type": "code",
   "execution_count": 5,
   "id": "126325b5",
   "metadata": {},
   "outputs": [],
   "source": [
    "# Divisione del file nelle tre righe di dati\n",
    "#lista = data.split(\"\\n\")\n",
    "# parsing in lista di interi\n",
    "#da = [int(i) for i in lista[0].split(', ')]\n",
    "#a = [int(i) for i in lista[1].split(', ')]\n",
    "#pesi = [int(i) for i in lista[2].split(', ')]\n",
    "da = df[0:1]\n",
    "a = df[1:2]\n",
    "pesi = df[2:3]"
   ]
  },
  {
   "cell_type": "markdown",
   "id": "4a462b16",
   "metadata": {},
   "source": [
    "\n",
    "##### Generazione del grafo"
   ]
  },
  {
   "cell_type": "code",
   "execution_count": 6,
   "id": "70dc4796",
   "metadata": {
    "scrolled": false
   },
   "outputs": [],
   "source": [
    "#g = nx.Graph()\n",
    "#for i in range(len(da)):\n",
    "#     g.add_edge(da[i],a[i], weight=pesi[i])\n",
    "#nx.draw_planar(g, with_labels = True)\n",
    "#plt.savefig(\"prova.png\")"
   ]
  },
  {
   "cell_type": "code",
   "execution_count": 7,
   "id": "920ada97",
   "metadata": {},
   "outputs": [],
   "source": [
    "# Creation of the graph\n",
    "G = nx.Graph()\n",
    "\n",
    "# Extract the nodes from the lists of edges and sort them\n",
    "nodes = pd.unique(pd.concat([df.loc[0],df.loc[1]]))\n",
    "nodes.sort()\n",
    "\n",
    "for i in nodes:\n",
    "    G.add_node(i)\n",
    "    \n",
    "for i in range(da.size):\n",
    "    G.add_edge(df.iat[0,i], df.iat[1,i], weight=df.iat[2,i])"
   ]
  },
  {
   "cell_type": "code",
   "execution_count": 8,
   "id": "0c69f004",
   "metadata": {},
   "outputs": [
    {
     "data": {
      "text/plain": [
       "{(1, 4): Text(-0.42827209869185934, -0.04362760062031992, '3'),\n",
       " (1, 7): Text(0.03658217411698146, -0.2557579291913251, '2'),\n",
       " (1, 6): Text(0.26683784962221324, 0.06370297429845964, '1'),\n",
       " (2, 3): Text(-0.2655041032898721, -0.12131920665821178, '2'),\n",
       " (2, 7): Text(0.09971111754287651, -0.35546808487402337, '5'),\n",
       " (2, 8): Text(0.04724265785163217, -0.17489224258260194, '6'),\n",
       " (3, 4): Text(-0.5988406153513841, 0.027404176472081147, '9'),\n",
       " (3, 10): Text(-0.6599819480937441, 0.24655606843357106, '1'),\n",
       " (3, 9): Text(-0.42143809122476217, 0.19211295040885681, '3'),\n",
       " (4, 11): Text(-0.8412408345590585, 0.09586986415769913, '6'),\n",
       " (5, 6): Text(0.8458701146503345, 0.18094103538751605, '6'),\n",
       " (5, 12): Text(0.985311747272992, -0.027122317668036328, '4'),\n",
       " (7, 13): Text(0.3736678374430815, -0.3715159339895048, '7'),\n",
       " (8, 9): Text(-0.10869133008325786, 0.13853991448446665, '2'),\n",
       " (8, 13): Text(0.3211993777518372, -0.19094009169808335, '3'),\n",
       " (9, 10): Text(-0.5822184759432144, 0.38924629272554034, '2'),\n",
       " (10, 11): Text(-0.9023821673014185, 0.31502175611918903, '4'),\n",
       " (12, 13): Text(0.7433651455709708, -0.2601183835552724, '3')}"
      ]
     },
     "execution_count": 8,
     "metadata": {},
     "output_type": "execute_result"
    },
    {
     "data": {
      "image/png": "[encoded data removed]",
      "text/plain": [
       "<Figure size 432x288 with 1 Axes>"
      ]
     },
     "metadata": {},
     "output_type": "display_data"
    }
   ],
   "source": [
    "#nx.draw_planar(G, with_labels=True)\n",
    "pos=nx.spring_layout(G)\n",
    "nx.draw_networkx(G,pos)\n",
    "labels = nx.get_edge_attributes(G,'weight')\n",
    "nx.draw_networkx_edge_labels(G,pos,edge_labels=labels)"
   ]
  },
  {
   "cell_type": "markdown",
   "id": "61610912",
   "metadata": {},
   "source": [
    "Generazione della matrice delle distanze"
   ]
  },
  {
   "cell_type": "code",
   "execution_count": 9,
   "id": "872d5f9f",
   "metadata": {},
   "outputs": [],
   "source": [
    "dictDist= dict(nx.all_pairs_dijkstra_path_length(G))"
   ]
  },
  {
   "cell_type": "code",
   "execution_count": 10,
   "id": "fd4bd781",
   "metadata": {},
   "outputs": [],
   "source": [
    "mDist = pd.DataFrame(dictDist)\n",
    "mDistSorted = mDist.sort_index()"
   ]
  },
  {
   "cell_type": "markdown",
   "id": "8039a7bb",
   "metadata": {},
   "source": [
    "Creazione della stringa che sarà il file di input per il programma Minizinc e stampa su file"
   ]
  },
  {
   "cell_type": "code",
   "execution_count": 108,
   "id": "c461fc4f",
   "metadata": {},
   "outputs": [],
   "source": [
    "stringa = dataStringGenerator(mDistSorted, \"mdist\")"
   ]
  },
  {
   "cell_type": "code",
   "execution_count": 109,
   "id": "1b0d927c",
   "metadata": {},
   "outputs": [],
   "source": [
    "#file = open('myfile.dzn', 'w')\n",
    "#file.write(stringa)\n",
    "#file.close()"
   ]
  },
  {
   "cell_type": "markdown",
   "id": "bfdbba5a",
   "metadata": {},
   "source": [
    "## Integrazione di OpenStreetMaps"
   ]
  },
  {
   "cell_type": "markdown",
   "id": "df1f8a0f",
   "metadata": {},
   "source": [
    "Recupero di un grafo di una città e manipolazione per rendere utilizzabili le distanze"
   ]
  },
  {
   "cell_type": "code",
   "execution_count": 5,
   "id": "39299654",
   "metadata": {
    "scrolled": false
   },
   "outputs": [
    {
     "data": {
      "image/png": "[encoded data removed]",
      "text/plain": [
       "<Figure size 1296x1296 with 1 Axes>"
      ]
     },
     "metadata": {},
     "output_type": "display_data"
    }
   ],
   "source": [
    "place_name = \"Casaloldo, Mantova, Italy\"\n",
    "\n",
    "# dowload del grafico\n",
    "graph = ox.graph_from_place(place_name, network_type=\"drive\")\n",
    "# conversione delle etichette con numeri consecutivi partendo da 1\n",
    "gg = nx.convert_node_labels_to_integers(graph)\n",
    "# conversione ad un grafo indiretto\n",
    "dGraph = gg.to_undirected()\n",
    "\n",
    "#type(dGraph)\n",
    "fig, ax = ox.plot_graph(dGraph, node_size=2, figsize=(18,18))\n",
    "#edge_centrality = nx.closeness_centrality(nx.line_graph(dGraph))\n",
    "#nx.set_edge_attributes(dGraph, edge_centrality, \"edge_centrality\")\n",
    "#ec = ox.plot.get_edge_colors_by_attr(dGraph, \"length\", cmap=\"inferno\")\n",
    "#fig, ax = ox.plot_graph(dGraph, edge_color=ec, edge_linewidth=0.8, node_size=10)\n",
    "#type(graph)\n",
    "#nx.classes.multidigraph.MultiDiGraph\n",
    "#xx = nx.spring_layout(graph,k=1, dim=2, scale=2)\n",
    "#plot = nx.draw_networkx(graph)\n",
    "#nx.draw_planar(G, with_labels=True)\n",
    "#pos=nx.spring_layout(G)\n",
    "#nx.draw_networkx(G,pos)\n",
    "#labels = nx.get_edge_attributes(G,'weight')\n",
    "#nx.draw_networkx_edge_labels(G,pos,edge_labels=labels)"
   ]
  },
  {
   "cell_type": "code",
   "execution_count": null,
   "id": "950d2fee",
   "metadata": {},
   "outputs": [],
   "source": []
  },
  {
   "cell_type": "code",
   "execution_count": null,
   "id": "5e2f25d3",
   "metadata": {},
   "outputs": [],
   "source": []
  },
  {
   "cell_type": "code",
   "execution_count": null,
   "id": "08f82432",
   "metadata": {},
   "outputs": [],
   "source": []
  },
  {
   "cell_type": "code",
   "execution_count": 18,
   "id": "37ca2536",
   "metadata": {},
   "outputs": [
    {
     "data": {
      "text/plain": [
       "{'n': 176,\n",
       " 'm': 232,\n",
       " 'k_avg': 2.6363636363636362,\n",
       " 'edge_length_total': 45382.91300000001,\n",
       " 'edge_length_avg': 195.61600431034486,\n",
       " 'streets_per_node_avg': 2.715909090909091,\n",
       " 'streets_per_node_counts': {0: 0, 1: 29, 2: 3, 3: 134, 4: 9, 5: 1},\n",
       " 'streets_per_node_proportions': {0: 0.0,\n",
       "  1: 0.16477272727272727,\n",
       "  2: 0.017045454545454544,\n",
       "  3: 0.7613636363636364,\n",
       "  4: 0.05113636363636364,\n",
       "  5: 0.005681818181818182},\n",
       " 'intersection_count': 147,\n",
       " 'street_length_total': 45291.513000000006,\n",
       " 'street_segment_count': 231,\n",
       " 'street_length_avg': 196.06715584415588,\n",
       " 'circuity_avg': 1.129025215260205,\n",
       " 'self_loop_proportion': 0.017316017316017316}"
      ]
     },
     "execution_count": 18,
     "metadata": {},
     "output_type": "execute_result"
    }
   ],
   "source": [
    "ox.basic_stats(dGraph)"
   ]
  },
  {
   "cell_type": "code",
   "execution_count": 19,
   "id": "6f093034",
   "metadata": {},
   "outputs": [
    {
     "data": {
      "text/html": [
       "<div>\n",
       "<style scoped>\n",
       "    .dataframe tbody tr th:only-of-type {\n",
       "        vertical-align: middle;\n",
       "    }\n",
       "\n",
       "    .dataframe tbody tr th {\n",
       "        vertical-align: top;\n",
       "    }\n",
       "\n",
       "    .dataframe thead th {\n",
       "        text-align: right;\n",
       "    }\n",
       "</style>\n",
       "<table border=\"1\" class=\"dataframe\">\n",
       "  <thead>\n",
       "    <tr style=\"text-align: right;\">\n",
       "      <th></th>\n",
       "      <th>0</th>\n",
       "      <th>1</th>\n",
       "      <th>2</th>\n",
       "      <th>3</th>\n",
       "      <th>4</th>\n",
       "      <th>5</th>\n",
       "      <th>6</th>\n",
       "      <th>7</th>\n",
       "      <th>8</th>\n",
       "      <th>9</th>\n",
       "      <th>...</th>\n",
       "      <th>166</th>\n",
       "      <th>167</th>\n",
       "      <th>168</th>\n",
       "      <th>169</th>\n",
       "      <th>170</th>\n",
       "      <th>171</th>\n",
       "      <th>172</th>\n",
       "      <th>173</th>\n",
       "      <th>174</th>\n",
       "      <th>175</th>\n",
       "    </tr>\n",
       "  </thead>\n",
       "  <tbody>\n",
       "    <tr>\n",
       "      <th>0</th>\n",
       "      <td>0</td>\n",
       "      <td>2</td>\n",
       "      <td>5</td>\n",
       "      <td>8</td>\n",
       "      <td>13</td>\n",
       "      <td>4</td>\n",
       "      <td>6</td>\n",
       "      <td>11</td>\n",
       "      <td>17</td>\n",
       "      <td>13</td>\n",
       "      <td>...</td>\n",
       "      <td>15</td>\n",
       "      <td>15</td>\n",
       "      <td>14</td>\n",
       "      <td>17</td>\n",
       "      <td>11</td>\n",
       "      <td>14</td>\n",
       "      <td>13</td>\n",
       "      <td>13</td>\n",
       "      <td>12</td>\n",
       "      <td>13</td>\n",
       "    </tr>\n",
       "    <tr>\n",
       "      <th>1</th>\n",
       "      <td>2</td>\n",
       "      <td>0</td>\n",
       "      <td>4</td>\n",
       "      <td>7</td>\n",
       "      <td>12</td>\n",
       "      <td>3</td>\n",
       "      <td>5</td>\n",
       "      <td>10</td>\n",
       "      <td>16</td>\n",
       "      <td>12</td>\n",
       "      <td>...</td>\n",
       "      <td>14</td>\n",
       "      <td>14</td>\n",
       "      <td>13</td>\n",
       "      <td>16</td>\n",
       "      <td>11</td>\n",
       "      <td>13</td>\n",
       "      <td>12</td>\n",
       "      <td>12</td>\n",
       "      <td>11</td>\n",
       "      <td>12</td>\n",
       "    </tr>\n",
       "    <tr>\n",
       "      <th>2</th>\n",
       "      <td>5</td>\n",
       "      <td>4</td>\n",
       "      <td>0</td>\n",
       "      <td>3</td>\n",
       "      <td>11</td>\n",
       "      <td>7</td>\n",
       "      <td>9</td>\n",
       "      <td>10</td>\n",
       "      <td>15</td>\n",
       "      <td>11</td>\n",
       "      <td>...</td>\n",
       "      <td>13</td>\n",
       "      <td>13</td>\n",
       "      <td>12</td>\n",
       "      <td>15</td>\n",
       "      <td>12</td>\n",
       "      <td>15</td>\n",
       "      <td>16</td>\n",
       "      <td>16</td>\n",
       "      <td>15</td>\n",
       "      <td>16</td>\n",
       "    </tr>\n",
       "    <tr>\n",
       "      <th>3</th>\n",
       "      <td>8</td>\n",
       "      <td>7</td>\n",
       "      <td>3</td>\n",
       "      <td>0</td>\n",
       "      <td>8</td>\n",
       "      <td>6</td>\n",
       "      <td>6</td>\n",
       "      <td>7</td>\n",
       "      <td>12</td>\n",
       "      <td>8</td>\n",
       "      <td>...</td>\n",
       "      <td>10</td>\n",
       "      <td>10</td>\n",
       "      <td>9</td>\n",
       "      <td>12</td>\n",
       "      <td>12</td>\n",
       "      <td>12</td>\n",
       "      <td>13</td>\n",
       "      <td>13</td>\n",
       "      <td>12</td>\n",
       "      <td>13</td>\n",
       "    </tr>\n",
       "    <tr>\n",
       "      <th>4</th>\n",
       "      <td>13</td>\n",
       "      <td>12</td>\n",
       "      <td>11</td>\n",
       "      <td>8</td>\n",
       "      <td>0</td>\n",
       "      <td>9</td>\n",
       "      <td>9</td>\n",
       "      <td>8</td>\n",
       "      <td>8</td>\n",
       "      <td>4</td>\n",
       "      <td>...</td>\n",
       "      <td>6</td>\n",
       "      <td>6</td>\n",
       "      <td>5</td>\n",
       "      <td>8</td>\n",
       "      <td>15</td>\n",
       "      <td>12</td>\n",
       "      <td>13</td>\n",
       "      <td>13</td>\n",
       "      <td>12</td>\n",
       "      <td>14</td>\n",
       "    </tr>\n",
       "  </tbody>\n",
       "</table>\n",
       "<p>5 rows × 176 columns</p>\n",
       "</div>"
      ],
      "text/plain": [
       "   0    1    2    3    4    5    6    7    8    9    ...  166  167  168  169  \\\n",
       "0    0    2    5    8   13    4    6   11   17   13  ...   15   15   14   17   \n",
       "1    2    0    4    7   12    3    5   10   16   12  ...   14   14   13   16   \n",
       "2    5    4    0    3   11    7    9   10   15   11  ...   13   13   12   15   \n",
       "3    8    7    3    0    8    6    6    7   12    8  ...   10   10    9   12   \n",
       "4   13   12   11    8    0    9    9    8    8    4  ...    6    6    5    8   \n",
       "\n",
       "   170  171  172  173  174  175  \n",
       "0   11   14   13   13   12   13  \n",
       "1   11   13   12   12   11   12  \n",
       "2   12   15   16   16   15   16  \n",
       "3   12   12   13   13   12   13  \n",
       "4   15   12   13   13   12   14  \n",
       "\n",
       "[5 rows x 176 columns]"
      ]
     },
     "execution_count": 19,
     "metadata": {},
     "output_type": "execute_result"
    }
   ],
   "source": [
    "# calcolo della minore distanza tra tutte le coppie di nodi\n",
    "# --> la matrice sarà simmetrica perchè il grafo è indiretto\n",
    "labels2 = nx.get_edge_attributes(dGraph, 'length')\n",
    "dictDist2 = dict(nx.all_pairs_dijkstra_path_length(dGraph))\n",
    "mDist2 = pd.DataFrame(dictDist2)\n",
    "mDistSorted2 = mDist2.sort_index()\n",
    "#mDistSorted3 = mDistSorted2.reset_index()\n",
    "#mDistSorted4 = mDistSorted3.T.reset_index()\n",
    "mDistSorted2.head()"
   ]
  },
  {
   "cell_type": "code",
   "execution_count": 6,
   "id": "a858c658",
   "metadata": {},
   "outputs": [],
   "source": [
    "##### xx=nx.spring_layout(graph)\n",
    "#nx.draw_networkx(graph,xx)\n",
    "\n",
    "#RandG = nx.gnm_random_graph(10,18,seed=1234)\n",
    "#posG=nx.spring_layout(RandG)\n",
    "#nx.draw_networkx(RandG,posG)\n",
    "\n",
    "#for i in RandG.edges:\n",
    "#    G.add_edges_from(i, weight=np.random())\n",
    "#np.random.randint(low=1,high=15)\n",
    "\n",
    "\n",
    "def ER(n, p):\n",
    "    V = set([v for v in range(n)])\n",
    "    \n",
    "    g = nx.Graph()\n",
    "    g.add_nodes_from(V)\n",
    "    \n",
    "    for combination in combinations(V, 2):\n",
    "        a = random()\n",
    "        if a < p:\n",
    "            g.add_edge(combination[0], combination[1])\n",
    "        \n",
    "        flag = nx.check_planarity(g)\n",
    "        if  flag[0] == False:\n",
    "            g.remove_edge(combination[0], combination[1])\n",
    "    \n",
    "    return g\n",
    "\n",
    "#G = ER(15,0.6)\n",
    "#xx=nx.planar_layout(G)\n",
    "#nx.draw_networkx(G,xx)\n",
    "#\n",
    "#graph = nx.fast_gnp_random_graph(10,2)\n",
    "#xx=nx.spring_layout(graph)\n",
    "#nx.draw_networkx(graph,xx)\n"
   ]
  },
  {
   "cell_type": "markdown",
   "id": "a7137143",
   "metadata": {},
   "source": [
    "## Generazione dei file di dati da dare in input a minizinc"
   ]
  },
  {
   "cell_type": "code",
   "execution_count": 8,
   "id": "1c85795e",
   "metadata": {},
   "outputs": [],
   "source": [
    "orari_possibili = [\"19.00\", \"19.15\", \"19.30\", \"19.45\", \"20.00\", \"20.15\", \"20.30\", \"20.45\", \"21.00\", \"21.15\", \"21.30\"]\n",
    "# np.random.randint(1,17) --> generatore di numeri tra [1,16] aka generatore di numero di pizze\n",
    "# np.random.randint(2,len(mDistSorted2)+1) aka generatore di destinazioni\n",
    "#orario\n",
    "#num_pizze\n",
    "#dest\n",
    "\n",
    "deliverers = 3\n",
    "N = 8\n",
    "orari, pizze, nodi = ordersGeneretor(orari_possibili, 16, mDistSorted2.shape[0], N)\n",
    "dfOrari = pd.DataFrame(orari)\n",
    "dfPizze = pd.DataFrame(pizze)\n",
    "dfNodi = pd.DataFrame(nodi)\n",
    "\n",
    "\n",
    "stringa = dataStringGenerator(pd.DataFrame(mDistSorted2,dtype=int), \"mdist\")\n",
    "stringaOrari = dataStringGenerator(dfOrari, \"orario\")\n",
    "stringaPizze = dataStringGenerator(dfPizze, \"num_pizze\")\n",
    "stringaNodi = dataStringGenerator(dfNodi, \"dest\")\n",
    "\n",
    "file = open('data.dzn', 'w')\n",
    "file.write(stringa + os.linesep \n",
    "           + stringaOrari + os.linesep \n",
    "           + stringaPizze + os.linesep \n",
    "           + stringaNodi+ os.linesep\n",
    "           + \"N = \" + str(N) + \";\" + os.linesep\n",
    "           + \"k = \" + str(mDistSorted2.shape[0]) + \";\" + os.linesep\n",
    "           + \"d = \" + str(deliverers) + \";\" + os.linesep)\n",
    "file.close()"
   ]
  },
  {
   "cell_type": "code",
   "execution_count": null,
   "id": "08e524ab",
   "metadata": {},
   "outputs": [],
   "source": []
  },
  {
   "cell_type": "code",
   "execution_count": null,
   "id": "57f7ac9c",
   "metadata": {},
   "outputs": [],
   "source": []
  },
  {
   "cell_type": "code",
   "execution_count": null,
   "id": "13ba2cc1",
   "metadata": {},
   "outputs": [],
   "source": []
  },
  {
   "cell_type": "markdown",
   "id": "aa74afde",
   "metadata": {},
   "source": [
    "## Generate 5 city of increasing size"
   ]
  },
  {
   "cell_type": "code",
   "execution_count": 2,
   "id": "19f49893",
   "metadata": {
    "scrolled": false
   },
   "outputs": [],
   "source": [
    "import seaborn as sb\n",
    "import os\n",
    "import time\n",
    "\n",
    "names = [\"Visano\", \"Asola\",\"Montichiari\",\"Brescia\",\"Roma\"]\n",
    "places = [(45.317468,10.3694991), # Visano (BS)\n",
    "        (45.221332657542824, 10.41757427434648), # Asola (MN)\n",
    "        (45.41301145796791, 10.39169903519818), # Montichiari (BS)\n",
    "        (45.536282844234854, 10.206297121183406), # Brescia (BS)\n",
    "        (41.90343248728792, 12.496484448996995)] # Roma (RO)"
   ]
  },
  {
   "cell_type": "code",
   "execution_count": 5,
   "id": "1a1ebb2b",
   "metadata": {},
   "outputs": [
    {
     "name": "stdout",
     "output_type": "stream",
     "text": [
      "Visano\n",
      "nodes: 297\n",
      "edges: 378\n",
      "Asola\n",
      "nodes: 480\n",
      "edges: 664\n",
      "Montichiari\n",
      "nodes: 1130\n",
      "edges: 1509\n",
      "Brescia\n",
      "nodes: 3925\n",
      "edges: 5464\n",
      "Roma\n",
      "nodes: 4729\n",
      "edges: 7277\n"
     ]
    }
   ],
   "source": [
    "graphs = []\n",
    "\n",
    "for c in places:\n",
    "    graph = ox.graph_from_point(c,dist=3000,network_type=\"drive\")\n",
    "    # conversions\n",
    "    graph = nx.convert_node_labels_to_integers(graph)\n",
    "    graph = graph.to_undirected()\n",
    "    \n",
    "    graphs.append(graph) \n",
    "    # plot\n",
    "    print(names[places.index(c)])\n",
    "    #fig, ax = ox.plot_graph(graph, node_size=2, figsize=(50,50))\n",
    "    # print statistics\n",
    "    print('nodes: ' + str(ox.basic_stats(graph)['n']))\n",
    "    print('edges: ' + str(ox.basic_stats(graph)['m']))\n",
    "        "
   ]
  },
  {
   "cell_type": "code",
   "execution_count": 6,
   "id": "1aea989a",
   "metadata": {},
   "outputs": [
    {
     "name": "stdout",
     "output_type": "stream",
     "text": [
      "Visano\n",
      "        0         1         2         3         4         5         6    \\\n",
      "0     0.000  1796.021  1327.796  1292.057  1275.530  1256.546   765.177   \n",
      "1  1796.021     0.000   468.225   504.052   520.579   539.563  1030.844   \n",
      "2  1327.796   468.225     0.000    35.827    52.354    71.338   562.619   \n",
      "3  1292.057   504.052    35.827     0.000    16.527    35.511   526.880   \n",
      "4  1275.530   520.579    52.354    16.527     0.000    18.984   510.353   \n",
      "\n",
      "        7         8         9    ...       287       288       289       290  \\\n",
      "0   736.394   720.987   677.430  ...  5458.407  5606.908  5386.025  5325.188   \n",
      "1  1060.587  1075.994  1119.551  ...  4474.024  4622.525  4546.406  4607.243   \n",
      "2   592.362   607.769   651.326  ...  4942.249  5090.750  5014.631  5075.468   \n",
      "3   556.623   572.030   615.587  ...  4978.076  5126.577  5050.458  5111.295   \n",
      "4   540.096   555.503   599.060  ...  4994.603  5143.104  5066.985  5127.822   \n",
      "\n",
      "        291       292       293       294       295       296  \n",
      "0  6747.638  6927.789  1241.895   805.372   882.168  1004.345  \n",
      "1  4951.617  5131.768  2610.940  1891.510  1968.306  2090.483  \n",
      "2  5419.842  5599.993  2142.715  1423.285  1500.081  1622.258  \n",
      "3  5455.669  5635.820  2106.976  1387.546  1464.342  1586.519  \n",
      "4  5472.196  5652.347  2090.449  1371.019  1447.815  1569.992  \n",
      "\n",
      "[5 rows x 297 columns]\n",
      "Asola\n",
      "        0        1         2         3         4         5         6    \\\n",
      "0     0.000  758.717  1440.729  1304.690  1234.380  1359.547  1353.199   \n",
      "1   758.717    0.000   682.012   545.973   475.663   600.830   594.482   \n",
      "2  1440.729  682.012     0.000   150.458   206.349    95.601    87.530   \n",
      "3  1304.690  545.973   150.458     0.000    70.310    54.857    79.929   \n",
      "4  1234.380  475.663   206.349    70.310     0.000   125.167   118.819   \n",
      "\n",
      "        7         8         9    ...       470       471       472       473  \\\n",
      "0  2151.557  2164.185  2220.395  ...   318.993  1450.892  3840.391   874.992   \n",
      "1  2171.589  2234.391  2290.601  ...  1077.710  1521.098  3910.597  1021.185   \n",
      "2  1788.872  1880.104  1936.314  ...  1759.722  2203.110  4051.587  1437.742   \n",
      "3  1732.362  1823.594  1879.804  ...  1623.683  2067.071  3995.077  1351.558   \n",
      "4  1771.252  1862.484  1918.694  ...  1553.373  1996.761  4033.967  1421.868   \n",
      "\n",
      "        474       475       476       477       478       479  \n",
      "0   890.612   854.775   864.352   838.102   835.183   813.573  \n",
      "1  1036.805  1000.968  1010.545   984.295   981.376   959.766  \n",
      "2  1453.362  1417.525  1427.102  1400.852  1397.933  1376.323  \n",
      "3  1367.178  1331.341  1340.918  1314.668  1311.749  1290.139  \n",
      "4  1437.488  1401.651  1411.228  1384.978  1382.059  1360.449  \n",
      "\n",
      "[5 rows x 480 columns]\n",
      "Montichiari\n",
      "       0         1         2         3         4         5         6     \\\n",
      "0     0.000  2395.390  2332.419  2236.872  2202.189  1972.473  2008.504   \n",
      "1  2395.390     0.000   371.652   486.520   521.203   967.683  1092.200   \n",
      "2  2332.419   371.652     0.000   114.868   149.551   596.031   720.548   \n",
      "3  2236.872   486.520   114.868     0.000    34.683   481.163   605.680   \n",
      "4  2202.189   521.203   149.551    34.683     0.000   446.480   570.997   \n",
      "\n",
      "       7         8         9     ...      1120      1121      1122      1123  \\\n",
      "0  2155.456  2339.969  2327.197  ...  3097.835  3645.085  3824.567  3719.122   \n",
      "1  1166.939   774.938   779.018  ...  1352.527  1364.566  1544.048  1438.603   \n",
      "2   795.287   878.498   882.578  ...  1471.363  1598.426  1777.908  1672.463   \n",
      "3   680.419   993.366   997.446  ...  1586.231  1713.294  1892.776  1787.331   \n",
      "4   645.736  1010.257  1032.129  ...  1620.914  1747.977  1927.459  1822.014   \n",
      "\n",
      "       1124      1125      1126      1127      1128      1129  \n",
      "0  3791.531  3079.270  3094.579  2684.989  2773.267  2807.257  \n",
      "1  1511.012   683.880   699.189   478.225   566.503   436.908  \n",
      "2  1744.872   841.440   856.749   352.570   440.848   474.838  \n",
      "3  1859.740   956.308   971.617   467.438   555.716   589.706  \n",
      "4  1894.423   990.991  1006.300   502.121   590.399   624.389  \n",
      "\n",
      "[5 rows x 1130 columns]\n",
      "Brescia\n",
      "       0         1         2         3         4         5         6     \\\n",
      "0     0.000  4403.231  6377.663  6220.084  5965.239  5895.978  5675.161   \n",
      "1  4403.231     0.000  1974.432  1816.853  1606.735  1537.474  1316.657   \n",
      "2  6377.663  1974.432     0.000   157.579   419.978   489.239   710.056   \n",
      "3  6220.084  1816.853   157.579     0.000   262.399   331.660   552.477   \n",
      "4  5965.239  1606.735   419.978   262.399     0.000    69.261   290.078   \n",
      "\n",
      "       7         8         9     ...      3915      3916      3917      3918  \\\n",
      "0  5444.930  5265.777  5179.538  ...  5826.987  5845.847  5889.776  5975.762   \n",
      "1  1086.426   918.841   832.602  ...  3374.228  3368.643  3380.591  3518.392   \n",
      "2   940.287  1119.440  1205.679  ...  3519.795  3514.210  3526.158  3663.959   \n",
      "3   782.708   961.861  1048.100  ...  3535.277  3529.692  3541.640  3679.441   \n",
      "4   520.309   699.462   785.701  ...  3678.459  3672.874  3684.822  3822.623   \n",
      "\n",
      "       3919      3920      3921      3922      3923      3924  \n",
      "0  3462.717  2753.294  2757.878  3537.219  3442.923  1944.640  \n",
      "1  2625.993  2808.894  2833.321  2965.839  2606.199  3367.601  \n",
      "2  4290.820  3901.569  3925.996  3854.035  4271.026  4917.291  \n",
      "3  4133.241  3747.539  3771.966  3700.005  4113.447  4763.261  \n",
      "4  3935.255  3747.552  3771.979  3700.018  3915.461  4760.366  \n",
      "\n",
      "[5 rows x 3925 columns]\n",
      "Roma\n",
      "       0         1         2         3         4         5         6     \\\n",
      "0     0.000   246.245   439.456  1533.130    77.458   367.004   356.796   \n",
      "1   246.245     0.000   193.211  1286.885   168.787   120.759   258.974   \n",
      "2   439.456   193.211     0.000  1398.835   361.998   205.807   344.022   \n",
      "3  1533.130  1286.885  1398.835     0.000  1455.672  1407.644  1545.859   \n",
      "4    77.458   168.787   361.998  1455.672     0.000   289.546   279.338   \n",
      "\n",
      "       7         8         9     ...      4719      4720      4721      4722  \\\n",
      "0   120.786   507.382   413.795  ...  6875.810  7060.166  6975.453  6993.848   \n",
      "1   125.459   261.137   167.550  ...  6629.565  6813.921  6729.208  6747.603   \n",
      "2   318.670   373.087   279.500  ...  6741.515  6925.871  6841.158  6859.553   \n",
      "3  1412.344  1212.922  1119.335  ...  5615.757  5800.113  5715.400  5733.795   \n",
      "4    43.328   429.924   336.337  ...  6798.352  6982.708  6897.995  6916.390   \n",
      "\n",
      "       4723      4724      4725      4726      4727      4728  \n",
      "0  4436.856  4845.056  2127.871  2485.150  4810.535  4500.651  \n",
      "1  4190.611  4598.811  1982.956  2340.235  4564.290  4254.406  \n",
      "2  3997.400  4405.600  1939.752  2297.031  4371.079  4061.195  \n",
      "3  3773.969  3850.526  3164.643  3192.859  3922.317  3475.460  \n",
      "4  4359.398  4767.598  2050.413  2407.692  4733.077  4423.193  \n",
      "\n",
      "[5 rows x 4729 columns]\n"
     ]
    }
   ],
   "source": [
    "# Calculate distances\n",
    "\n",
    "# --> la matrice sarà simmetrica perchè il grafo è indiretto\n",
    "\n",
    "mDists = []\n",
    "\n",
    "for g in graphs:\n",
    "    \n",
    "    print(names[graphs.index(g)])\n",
    "    \n",
    "    labels = nx.get_edge_attributes(g, 'length')\n",
    "    dictDist = dict(nx.all_pairs_dijkstra_path_length(g,weight='length'))\n",
    "    mDist = pd.DataFrame(dictDist)\n",
    "    mDists.append(mDist)\n",
    "    mDistSorted = mDist.sort_index()\n",
    "\n",
    "\n",
    "    print(mDistSorted.head())"
   ]
  },
  {
   "cell_type": "markdown",
   "id": "740e9f40",
   "metadata": {},
   "source": [
    "\n"
   ]
  },
  {
   "cell_type": "code",
   "execution_count": 20,
   "id": "9768c123",
   "metadata": {},
   "outputs": [
    {
     "name": "stdout",
     "output_type": "stream",
     "text": [
      "Visano...  10/10  \n",
      "Asola...  10/10  \n",
      "Montichiari...  10/10  \n",
      "Brescia...  10/10  \n",
      "Roma...  10/10  \n"
     ]
    }
   ],
   "source": [
    "# Generate files\n",
    "\n",
    "orari_possibili = [\"19.00\", \"19.15\", \"19.30\", \"19.45\", \"20.00\", \"20.15\", \"20.30\", \"20.45\", \"21.00\", \"21.15\", \"21.30\"]\n",
    "\n",
    "\n",
    "times = pd.DataFrame(columns=['city','time','unsat'])\n",
    "\n",
    "for g in graphs:\n",
    "    \n",
    "    for i in range(10):\n",
    "        \n",
    "        print(names[graphs.index(g)] + \"...  \" + str(i+1) + \"/10  \", end =\"\\r\")\n",
    "        \n",
    "        N = np.random.randint(5,15)\n",
    "        deliverers = np.random.randint(3,5)\n",
    "\n",
    "        orari, pizze, nodi = ordersGeneretor(orari_possibili, 16, mDists[graphs.index(g)].shape[0], N)\n",
    "            \n",
    "        dfOrari = pd.DataFrame(orari)\n",
    "        dfPizze = pd.DataFrame(pizze)\n",
    "        dfNodi  = pd.DataFrame(nodi)\n",
    "\n",
    "\n",
    "        stringa = dataStringGenerator(pd.DataFrame(mDists[graphs.index(g)]/500,dtype=int), \"mdist\")\n",
    "        stringaOrari = dataStringGenerator(dfOrari, \"orario\")\n",
    "        stringaPizze = dataStringGenerator(dfPizze, \"num_pizze\")\n",
    "        stringaNodi = dataStringGenerator(dfNodi, \"dest\")\n",
    "\n",
    "        filename = 'data/data_'+names[graphs.index(g)]+'_'+str(i)+'.dzn'\n",
    "        file = open(filename, 'w')\n",
    "        file.write(stringa + os.linesep \n",
    "                   + stringaOrari + os.linesep \n",
    "                   + stringaPizze + os.linesep \n",
    "                   + stringaNodi+ os.linesep\n",
    "                   + \"N = \" + str(N) + \";\" + os.linesep\n",
    "                   + \"k = \" + str(mDists[graphs.index(g)].shape[0]) + \";\" + os.linesep\n",
    "                   + \"d = \" + str(deliverers) + \";\" + os.linesep)\n",
    "        file.close()\n",
    "        \n",
    "    print()"
   ]
  },
  {
   "cell_type": "markdown",
   "id": "6183b409",
   "metadata": {},
   "source": [
    "Execution"
   ]
  },
  {
   "cell_type": "code",
   "execution_count": 21,
   "id": "faaa90fc",
   "metadata": {},
   "outputs": [
    {
     "name": "stdout",
     "output_type": "stream",
     "text": [
      "10/10 - Visano...   \n",
      "\t unsat #: 6\n",
      "10/10 - Asola...   \n",
      "\t unsat #: 3\n",
      "10/10 - Montichiari...   \n",
      "\t unsat #: 3\n",
      "10/10 - Brescia...   \n",
      "\t unsat #: 0\n",
      "10/10 - Roma...   \n",
      "\t unsat #: 0\n"
     ]
    }
   ],
   "source": [
    "times = pd.DataFrame(columns=['city','time','unsat'])\n",
    "\n",
    "for n in names:\n",
    "    \n",
    "    unsat = 0\n",
    "    \n",
    "    for i in range(10):\n",
    "        \n",
    "        print(str(i+1) + \"/10 - \" + n + \"...   \", end =\"\\r\")\n",
    "        \n",
    "        filename = 'data/data_'+ n +'_'+str(i)+'.dzn'\n",
    "        start_time = time.time()\n",
    "        cmd = 'minizinc --solver Gecode --time-limit 120000 v01.mzn ' + filename\n",
    "        #print(str(i) + ' - ' + cmd)\n",
    "        out = os.popen(cmd).read()\n",
    "        unsat += ('UNSAT' in out)\n",
    "        row = {'city': n, 'time': (time.time() - start_time),'unsat': ('UNSAT' in out)}\n",
    "        times = times.append(row, ignore_index = True)\n",
    "        \n",
    "        times.to_csv('res.csv', index=False)\n",
    "        \n",
    "    print()\n",
    "    print('\\t unsat #: ' + str(unsat))\n",
    "    "
   ]
  },
  {
   "cell_type": "markdown",
   "id": "99bf4ba8",
   "metadata": {},
   "source": [
    "Results"
   ]
  },
  {
   "cell_type": "code",
   "execution_count": 22,
   "id": "8026cbd8",
   "metadata": {},
   "outputs": [
    {
     "name": "stdout",
     "output_type": "stream",
     "text": [
      "           city        time  unsat\n",
      "0        Visano    8.041038  False\n",
      "1        Visano    5.084732  False\n",
      "2        Visano    2.216951  False\n",
      "3        Visano    2.477594   True\n",
      "4        Visano    4.602448   True\n",
      "5        Visano    3.530729  False\n",
      "6        Visano    2.860569   True\n",
      "7        Visano    2.949737   True\n",
      "8        Visano    4.500173   True\n",
      "9        Visano    3.337299   True\n",
      "10        Asola   22.461843  False\n",
      "11        Asola   12.076752  False\n",
      "12        Asola    8.982483  False\n",
      "13        Asola   11.551985  False\n",
      "14        Asola   14.368703   True\n",
      "15        Asola   10.683048   True\n",
      "16        Asola    5.686339  False\n",
      "17        Asola   12.731214  False\n",
      "18        Asola    5.187607  False\n",
      "19        Asola    5.780768   True\n",
      "20  Montichiari   80.477426  False\n",
      "21  Montichiari   61.607104  False\n",
      "22  Montichiari   50.775605  False\n",
      "23  Montichiari   28.952572  False\n",
      "24  Montichiari   54.543316   True\n",
      "25  Montichiari   37.627450  False\n",
      "26  Montichiari   64.903966  False\n",
      "27  Montichiari   81.739605   True\n",
      "28  Montichiari   52.667844  False\n",
      "29  Montichiari   40.834231   True\n",
      "30      Brescia  120.759882  False\n",
      "31      Brescia  120.110227  False\n",
      "32      Brescia  121.470628  False\n",
      "33      Brescia  120.949903  False\n",
      "34      Brescia  121.832282  False\n",
      "35      Brescia  120.656669  False\n",
      "36      Brescia  120.627282  False\n",
      "37      Brescia  122.070055  False\n",
      "38      Brescia  120.718275  False\n",
      "39      Brescia  120.770604  False\n",
      "40         Roma  121.810027  False\n",
      "41         Roma  120.819626  False\n",
      "42         Roma  121.604510  False\n",
      "43         Roma  121.004569  False\n",
      "44         Roma  120.889186  False\n",
      "45         Roma  120.897119  False\n",
      "46         Roma  122.213863  False\n",
      "47         Roma  122.856630  False\n",
      "48         Roma  121.029140  False\n",
      "49         Roma  121.494879  False\n"
     ]
    },
    {
     "data": {
      "text/plain": [
       "<AxesSubplot:xlabel='city', ylabel='time'>"
      ]
     },
     "execution_count": 22,
     "metadata": {},
     "output_type": "execute_result"
    },
    {
     "data": {
      "image/png": "[encoded data removed]",
      "text/plain": [
       "<Figure size 432x288 with 1 Axes>"
      ]
     },
     "metadata": {
      "needs_background": "light"
     },
     "output_type": "display_data"
    }
   ],
   "source": [
    "times = pd.read_csv('res.csv')  \n",
    "print(times)\n",
    "\n",
    "sb.barplot(data=times, x=\"city\", y=\"time\", hue=\"unsat\")"
   ]
  },
  {
   "cell_type": "code",
   "execution_count": null,
   "id": "2b698d73",
   "metadata": {},
   "outputs": [],
   "source": [
    "\n",
    "\n"
   ]
  },
  {
   "cell_type": "code",
   "execution_count": null,
   "id": "ab015c6d",
   "metadata": {},
   "outputs": [],
   "source": []
  },
  {
   "cell_type": "code",
   "execution_count": null,
   "id": "629565ae",
   "metadata": {},
   "outputs": [],
   "source": []
  },
  {
   "cell_type": "code",
   "execution_count": null,
   "id": "7d2f352f",
   "metadata": {},
   "outputs": [],
   "source": []
  }
 ],
 "metadata": {
  "kernelspec": {
   "display_name": "Python 3 (ipykernel)",
   "language": "python",
   "name": "python3"
  },
  "language_info": {
   "codemirror_mode": {
    "name": "ipython",
    "version": 3
   },
   "file_extension": ".py",
   "mimetype": "text/x-python",
   "name": "python",
   "nbconvert_exporter": "python",
   "pygments_lexer": "ipython3",
   "version": "3.8.12"
  }
 },
 "nbformat": 4,
 "nbformat_minor": 5
}
