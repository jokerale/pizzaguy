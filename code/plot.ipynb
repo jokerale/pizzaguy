{
 "cells": [
  {
   "cell_type": "markdown",
   "id": "446d6a49",
   "metadata": {},
   "source": [
    "Import delle librerie"
   ]
  },
  {
   "cell_type": "code",
   "execution_count": 98,
   "id": "84c25291",
   "metadata": {},
   "outputs": [],
   "source": [
    "import networkx as nx\n",
    "import matplotlib.pyplot as plt\n",
    "import pandas as pd\n",
    "import numpy as np\n",
    "import os\n",
    "from itertools import combinations\n",
    "import random\n",
    "import osmnx as ox"
   ]
  },
  {
   "cell_type": "markdown",
   "id": "8e0e3e43",
   "metadata": {},
   "source": [
    "Definizione della funzione per la creazione della stringa nella formattazione corretta per la lettura da parte di Minizinc"
   ]
  },
  {
   "cell_type": "code",
   "execution_count": 151,
   "id": "647f7d35",
   "metadata": {},
   "outputs": [],
   "source": [
    "def dataStringGenerator(df, nome_variabile):\n",
    "    stringa = nome_variabile +\" = [\";\n",
    "    ## sezione per la matrice delle distanze\n",
    "    if df.shape[0] == df.shape[1]:\n",
    "        for i in range(df.shape[0]):\n",
    "            if i == 0:\n",
    "                stringa = stringa + \"| \"\n",
    "            else:\n",
    "                stringa = stringa + \"         | \"\n",
    "            for j in range(df.shape[1]):\n",
    "                stringa = stringa + str(df.iat[i, j]) \n",
    "                if j != len(df)-1:\n",
    "                    stringa = stringa + \", \"\n",
    "                else:\n",
    "                    stringa = stringa +  os.linesep # aggiunta di \\n a fine della riga \n",
    "\n",
    "        stringa = stringa + \"         |];\"\n",
    "    # sezione per i semplici array di numeri\n",
    "    else:\n",
    "        for i in range(df.shape[0]):\n",
    "            if i != df.shape[0]-1:\n",
    "                stringa = stringa + str(df.iat[i,0]) + \", \"\n",
    "            else:\n",
    "                stringa = stringa + str(df.iat[i,0])\n",
    "        \n",
    "        stringa = stringa + \"];\"\n",
    "    \n",
    "    return stringa"
   ]
  },
  {
   "cell_type": "markdown",
   "id": "a1851d32",
   "metadata": {},
   "source": [
    "Definizione della funzione che permette la generazione di ordini casuali\n"
   ]
  },
  {
   "cell_type": "code",
   "execution_count": 152,
   "id": "74329fab",
   "metadata": {},
   "outputs": [],
   "source": [
    "def ordersGeneretor(orari_possibili, n_pizze_max, n_nodi, n_ordini):\n",
    "    orari = np.random.choice(orari_possibili, size=n_ordini)\n",
    "    #num_pizze = np.random.randint(1, n_pizze_max+1, size=n_ordini)\n",
    "    xx = np.random.gamma(2,2, size=n_ordini)\n",
    "    num_pizze = np.zeros(n_ordini, dtype=int)\n",
    "    for i in range(n_ordini):\n",
    "        num_pizze[i] = int(np.ceil(xx[i]))\n",
    "        if num_pizze[i] > 16:\n",
    "            num_pizze[i] = 16\n",
    "            \n",
    "    dest = np.random.randint(2, n_nodi+1, size=n_ordini)\n",
    "    \n",
    "    return orari, num_pizze, dest"
   ]
  },
  {
   "cell_type": "markdown",
   "id": "3914368a",
   "metadata": {},
   "source": [
    "##### Apertura e lettura del file"
   ]
  },
  {
   "cell_type": "code",
   "execution_count": 101,
   "id": "64f64d93",
   "metadata": {},
   "outputs": [
    {
     "data": {
      "text/html": [
       "<div>\n",
       "<style scoped>\n",
       "    .dataframe tbody tr th:only-of-type {\n",
       "        vertical-align: middle;\n",
       "    }\n",
       "\n",
       "    .dataframe tbody tr th {\n",
       "        vertical-align: top;\n",
       "    }\n",
       "\n",
       "    .dataframe thead th {\n",
       "        text-align: right;\n",
       "    }\n",
       "</style>\n",
       "<table border=\"1\" class=\"dataframe\">\n",
       "  <thead>\n",
       "    <tr style=\"text-align: right;\">\n",
       "      <th></th>\n",
       "      <th>0</th>\n",
       "      <th>1</th>\n",
       "      <th>2</th>\n",
       "      <th>3</th>\n",
       "      <th>4</th>\n",
       "      <th>5</th>\n",
       "      <th>6</th>\n",
       "      <th>7</th>\n",
       "      <th>8</th>\n",
       "      <th>9</th>\n",
       "      <th>10</th>\n",
       "      <th>11</th>\n",
       "      <th>12</th>\n",
       "      <th>13</th>\n",
       "      <th>14</th>\n",
       "      <th>15</th>\n",
       "      <th>16</th>\n",
       "      <th>17</th>\n",
       "    </tr>\n",
       "  </thead>\n",
       "  <tbody>\n",
       "    <tr>\n",
       "      <th>0</th>\n",
       "      <td>1</td>\n",
       "      <td>1</td>\n",
       "      <td>1</td>\n",
       "      <td>6</td>\n",
       "      <td>5</td>\n",
       "      <td>3</td>\n",
       "      <td>2</td>\n",
       "      <td>2</td>\n",
       "      <td>7</td>\n",
       "      <td>4</td>\n",
       "      <td>10</td>\n",
       "      <td>3</td>\n",
       "      <td>9</td>\n",
       "      <td>3</td>\n",
       "      <td>8</td>\n",
       "      <td>2</td>\n",
       "      <td>8</td>\n",
       "      <td>12</td>\n",
       "    </tr>\n",
       "    <tr>\n",
       "      <th>1</th>\n",
       "      <td>4</td>\n",
       "      <td>7</td>\n",
       "      <td>6</td>\n",
       "      <td>5</td>\n",
       "      <td>12</td>\n",
       "      <td>4</td>\n",
       "      <td>3</td>\n",
       "      <td>7</td>\n",
       "      <td>13</td>\n",
       "      <td>11</td>\n",
       "      <td>11</td>\n",
       "      <td>10</td>\n",
       "      <td>10</td>\n",
       "      <td>9</td>\n",
       "      <td>9</td>\n",
       "      <td>8</td>\n",
       "      <td>13</td>\n",
       "      <td>13</td>\n",
       "    </tr>\n",
       "    <tr>\n",
       "      <th>2</th>\n",
       "      <td>3</td>\n",
       "      <td>2</td>\n",
       "      <td>1</td>\n",
       "      <td>6</td>\n",
       "      <td>4</td>\n",
       "      <td>9</td>\n",
       "      <td>2</td>\n",
       "      <td>5</td>\n",
       "      <td>7</td>\n",
       "      <td>6</td>\n",
       "      <td>4</td>\n",
       "      <td>1</td>\n",
       "      <td>2</td>\n",
       "      <td>3</td>\n",
       "      <td>2</td>\n",
       "      <td>6</td>\n",
       "      <td>3</td>\n",
       "      <td>3</td>\n",
       "    </tr>\n",
       "  </tbody>\n",
       "</table>\n",
       "</div>"
      ],
      "text/plain": [
       "   0   1   2   3   4   5   6   7   8   9   10  11  12  13  14  15  16  17\n",
       "0   1   1   1   6   5   3   2   2   7   4  10   3   9   3   8   2   8  12\n",
       "1   4   7   6   5  12   4   3   7  13  11  11  10  10   9   9   8  13  13\n",
       "2   3   2   1   6   4   9   2   5   7   6   4   1   2   3   2   6   3   3"
      ]
     },
     "execution_count": 101,
     "metadata": {},
     "output_type": "execute_result"
    }
   ],
   "source": [
    "# Apertura e lettura del file\n",
    "#file = open(\"data.txt\",\"r\")\n",
    "#data = file.read()\n",
    "\n",
    "df = pd.read_table('data.txt', sep=',', header=None)\n",
    "df"
   ]
  },
  {
   "cell_type": "markdown",
   "id": "6a02eaa3",
   "metadata": {},
   "source": [
    "##### Divisione dei dati letti in input e creazione delle liste contenenti i nodi e i pesi relativi"
   ]
  },
  {
   "cell_type": "markdown",
   "id": "1f0a78a7",
   "metadata": {},
   "source": [
    "La prima riga rappresenta il nodo di partenza di ogni arco, la seconda il node di arrivo e la terza il peso di ogni arco"
   ]
  },
  {
   "cell_type": "code",
   "execution_count": 102,
   "id": "126325b5",
   "metadata": {},
   "outputs": [],
   "source": [
    "# Divisione del file nelle tre righe di dati\n",
    "#lista = data.split(\"\\n\")\n",
    "# parsing in lista di interi\n",
    "#da = [int(i) for i in lista[0].split(', ')]\n",
    "#a = [int(i) for i in lista[1].split(', ')]\n",
    "#pesi = [int(i) for i in lista[2].split(', ')]\n",
    "da = df[0:1]\n",
    "a = df[1:2]\n",
    "pesi = df[2:3]"
   ]
  },
  {
   "cell_type": "markdown",
   "id": "4a462b16",
   "metadata": {},
   "source": [
    "\n",
    "##### Generazione del grafo"
   ]
  },
  {
   "cell_type": "code",
   "execution_count": 103,
   "id": "70dc4796",
   "metadata": {
    "scrolled": false
   },
   "outputs": [],
   "source": [
    "#g = nx.Graph()\n",
    "#for i in range(len(da)):\n",
    "#     g.add_edge(da[i],a[i], weight=pesi[i])\n",
    "#nx.draw_planar(g, with_labels = True)\n",
    "#plt.savefig(\"prova.png\")"
   ]
  },
  {
   "cell_type": "code",
   "execution_count": 104,
   "id": "920ada97",
   "metadata": {},
   "outputs": [],
   "source": [
    "# Creation of the graph\n",
    "G = nx.Graph()\n",
    "\n",
    "# Extract the nodes from the lists of edges and sort them\n",
    "nodes = pd.unique(pd.concat([df.loc[0],df.loc[1]]))\n",
    "nodes.sort()\n",
    "\n",
    "for i in nodes:\n",
    "    G.add_node(i)\n",
    "    \n",
    "for i in range(da.size):\n",
    "    G.add_edge(df.iat[0,i], df.iat[1,i], weight=df.iat[2,i])"
   ]
  },
  {
   "cell_type": "code",
   "execution_count": 105,
   "id": "0c69f004",
   "metadata": {},
   "outputs": [
    {
     "data": {
      "text/plain": [
       "{(1, 4): Text(0.34670138800302375, -0.054194368314360586, '3'),\n",
       " (1, 7): Text(-0.05846804085747434, -0.1254196865359969, '2'),\n",
       " (1, 6): Text(-0.028990084285796136, -0.6221615117591379, '1'),\n",
       " (2, 3): Text(0.0942691875952753, 0.39450037715754116, '2'),\n",
       " (2, 7): Text(-0.2289841196894325, 0.2053443159564648, '5'),\n",
       " (2, 8): Text(-0.24628324946887983, 0.35590593557605077, '6'),\n",
       " (3, 4): Text(0.44081959657308756, 0.2783272511175583, '9'),\n",
       " (3, 10): Text(0.5304232587526785, 0.5417112065146273, '1'),\n",
       " (3, 9): Text(0.2764465389314259, 0.5384063259311598, '3'),\n",
       " (4, 11): Text(0.6673289439663929, 0.26026457128950176, '6'),\n",
       " (5, 6): Text(-0.379699015631476, -0.9877688893757182, '6'),\n",
       " (5, 12): Text(-0.6072910897815781, -0.8210446557100641, '4'),\n",
       " (7, 13): Text(-0.4121825806155947, -0.05495287479363895, '7'),\n",
       " (8, 9): Text(-0.06410589813272924, 0.4998118843496693, '2'),\n",
       " (8, 13): Text(-0.429481710395042, 0.09560874482594699, '3'),\n",
       " (9, 10): Text(0.4479663226868072, 0.6838595383487887, '2'),\n",
       " (10, 11): Text(0.7569326061459838, 0.5236485266865708, '4'),\n",
       " (12, 13): Text(-0.6102966981940185, -0.3849704663511259, '3')}"
      ]
     },
     "execution_count": 105,
     "metadata": {},
     "output_type": "execute_result"
    },
    {
     "data": {
      "image/png": "[encoded data removed]",
      "text/plain": [
       "<Figure size 432x288 with 1 Axes>"
      ]
     },
     "metadata": {},
     "output_type": "display_data"
    }
   ],
   "source": [
    "#nx.draw_planar(G, with_labels=True)\n",
    "pos=nx.spring_layout(G)\n",
    "nx.draw_networkx(G,pos)\n",
    "labels = nx.get_edge_attributes(G,'weight')\n",
    "nx.draw_networkx_edge_labels(G,pos,edge_labels=labels)"
   ]
  },
  {
   "cell_type": "markdown",
   "id": "61610912",
   "metadata": {},
   "source": [
    "Generazione della matrice delle distanze"
   ]
  },
  {
   "cell_type": "code",
   "execution_count": 106,
   "id": "872d5f9f",
   "metadata": {},
   "outputs": [],
   "source": [
    "dictDist= dict(nx.all_pairs_dijkstra_path_length(G))"
   ]
  },
  {
   "cell_type": "code",
   "execution_count": 107,
   "id": "fd4bd781",
   "metadata": {},
   "outputs": [],
   "source": [
    "mDist = pd.DataFrame(dictDist)\n",
    "mDistSorted = mDist.sort_index()"
   ]
  },
  {
   "cell_type": "markdown",
   "id": "8039a7bb",
   "metadata": {},
   "source": [
    "Creazione della stringa che sarà il file di input per il programma Minizinc e stampa su file"
   ]
  },
  {
   "cell_type": "code",
   "execution_count": 108,
   "id": "c461fc4f",
   "metadata": {},
   "outputs": [],
   "source": [
    "stringa = dataStringGenerator(mDistSorted, \"mdist\")"
   ]
  },
  {
   "cell_type": "code",
   "execution_count": 109,
   "id": "1b0d927c",
   "metadata": {},
   "outputs": [],
   "source": [
    "#file = open('myfile.dzn', 'w')\n",
    "#file.write(stringa)\n",
    "#file.close()"
   ]
  },
  {
   "cell_type": "markdown",
   "id": "bfdbba5a",
   "metadata": {},
   "source": [
    "## Integrazione di OpenStreetMaps"
   ]
  },
  {
   "cell_type": "markdown",
   "id": "df1f8a0f",
   "metadata": {},
   "source": [
    "Recupero di un grafo di una città e manipolazione per rendere utilizzabili le distanze"
   ]
  },
  {
   "cell_type": "code",
   "execution_count": 153,
   "id": "39299654",
   "metadata": {
    "scrolled": false
   },
   "outputs": [
    {
     "name": "stderr",
     "output_type": "stream",
     "text": [
      "/home/alessio/anaconda3/envs/ox/lib/python3.10/site-packages/osmnx/geocoder.py:110: FutureWarning: The frame.append method is deprecated and will be removed from pandas in a future version. Use pandas.concat instead.\n",
      "  gdf = gdf.append(_geocode_query_to_gdf(q, wr, by_osmid))\n"
     ]
    },
    {
     "data": {
      "image/png": "[encoded data removed]",
      "text/plain": [
       "<Figure size 576x576 with 1 Axes>"
      ]
     },
     "metadata": {},
     "output_type": "display_data"
    }
   ],
   "source": [
    "place_name = \"Casaloldo, Mantova, Italy\"\n",
    "\n",
    "# dowload del grafico\n",
    "graph = ox.graph_from_place(place_name, network_type=\"drive\")\n",
    "# conversione delle etichette con numeri consecutivi partendo da 1\n",
    "gg = nx.convert_node_labels_to_integers(graph)\n",
    "# conversione ad un grafo indiretto\n",
    "dGraph = gg.to_undirected()\n",
    "\n",
    "#type(dGraph)\n",
    "fig, ax = ox.plot_graph(dGraph, node_size=2)\n",
    "#edge_centrality = nx.closeness_centrality(nx.line_graph(dGraph))\n",
    "#nx.set_edge_attributes(dGraph, edge_centrality, \"edge_centrality\")\n",
    "#ec = ox.plot.get_edge_colors_by_attr(dGraph, \"length\", cmap=\"inferno\")\n",
    "#fig, ax = ox.plot_graph(dGraph, edge_color=ec, edge_linewidth=0.8, node_size=1)\n",
    "#type(graph)\n",
    "#nx.classes.multidigraph.MultiDiGraph\n",
    "#xx = nx.spring_layout(graph,k=1, dim=2, scale=2)\n",
    "#plot = nx.draw_networkx(graph)"
   ]
  },
  {
   "cell_type": "code",
   "execution_count": 154,
   "id": "6f093034",
   "metadata": {},
   "outputs": [
    {
     "data": {
      "text/html": [
       "<div>\n",
       "<style scoped>\n",
       "    .dataframe tbody tr th:only-of-type {\n",
       "        vertical-align: middle;\n",
       "    }\n",
       "\n",
       "    .dataframe tbody tr th {\n",
       "        vertical-align: top;\n",
       "    }\n",
       "\n",
       "    .dataframe thead th {\n",
       "        text-align: right;\n",
       "    }\n",
       "</style>\n",
       "<table border=\"1\" class=\"dataframe\">\n",
       "  <thead>\n",
       "    <tr style=\"text-align: right;\">\n",
       "      <th></th>\n",
       "      <th>0</th>\n",
       "      <th>1</th>\n",
       "      <th>2</th>\n",
       "      <th>3</th>\n",
       "      <th>4</th>\n",
       "      <th>5</th>\n",
       "      <th>6</th>\n",
       "      <th>7</th>\n",
       "      <th>8</th>\n",
       "      <th>9</th>\n",
       "      <th>...</th>\n",
       "      <th>166</th>\n",
       "      <th>167</th>\n",
       "      <th>168</th>\n",
       "      <th>169</th>\n",
       "      <th>170</th>\n",
       "      <th>171</th>\n",
       "      <th>172</th>\n",
       "      <th>173</th>\n",
       "      <th>174</th>\n",
       "      <th>175</th>\n",
       "    </tr>\n",
       "  </thead>\n",
       "  <tbody>\n",
       "    <tr>\n",
       "      <th>0</th>\n",
       "      <td>0</td>\n",
       "      <td>2</td>\n",
       "      <td>5</td>\n",
       "      <td>8</td>\n",
       "      <td>13</td>\n",
       "      <td>4</td>\n",
       "      <td>6</td>\n",
       "      <td>11</td>\n",
       "      <td>17</td>\n",
       "      <td>13</td>\n",
       "      <td>...</td>\n",
       "      <td>15</td>\n",
       "      <td>15</td>\n",
       "      <td>14</td>\n",
       "      <td>17</td>\n",
       "      <td>11</td>\n",
       "      <td>14</td>\n",
       "      <td>13</td>\n",
       "      <td>13</td>\n",
       "      <td>12</td>\n",
       "      <td>13</td>\n",
       "    </tr>\n",
       "    <tr>\n",
       "      <th>1</th>\n",
       "      <td>2</td>\n",
       "      <td>0</td>\n",
       "      <td>4</td>\n",
       "      <td>7</td>\n",
       "      <td>12</td>\n",
       "      <td>3</td>\n",
       "      <td>5</td>\n",
       "      <td>10</td>\n",
       "      <td>16</td>\n",
       "      <td>12</td>\n",
       "      <td>...</td>\n",
       "      <td>14</td>\n",
       "      <td>14</td>\n",
       "      <td>13</td>\n",
       "      <td>16</td>\n",
       "      <td>11</td>\n",
       "      <td>13</td>\n",
       "      <td>12</td>\n",
       "      <td>12</td>\n",
       "      <td>11</td>\n",
       "      <td>12</td>\n",
       "    </tr>\n",
       "    <tr>\n",
       "      <th>2</th>\n",
       "      <td>5</td>\n",
       "      <td>4</td>\n",
       "      <td>0</td>\n",
       "      <td>3</td>\n",
       "      <td>11</td>\n",
       "      <td>7</td>\n",
       "      <td>9</td>\n",
       "      <td>10</td>\n",
       "      <td>15</td>\n",
       "      <td>11</td>\n",
       "      <td>...</td>\n",
       "      <td>13</td>\n",
       "      <td>13</td>\n",
       "      <td>12</td>\n",
       "      <td>15</td>\n",
       "      <td>12</td>\n",
       "      <td>15</td>\n",
       "      <td>16</td>\n",
       "      <td>16</td>\n",
       "      <td>15</td>\n",
       "      <td>16</td>\n",
       "    </tr>\n",
       "    <tr>\n",
       "      <th>3</th>\n",
       "      <td>8</td>\n",
       "      <td>7</td>\n",
       "      <td>3</td>\n",
       "      <td>0</td>\n",
       "      <td>8</td>\n",
       "      <td>6</td>\n",
       "      <td>6</td>\n",
       "      <td>7</td>\n",
       "      <td>12</td>\n",
       "      <td>8</td>\n",
       "      <td>...</td>\n",
       "      <td>10</td>\n",
       "      <td>10</td>\n",
       "      <td>9</td>\n",
       "      <td>12</td>\n",
       "      <td>12</td>\n",
       "      <td>12</td>\n",
       "      <td>13</td>\n",
       "      <td>13</td>\n",
       "      <td>12</td>\n",
       "      <td>13</td>\n",
       "    </tr>\n",
       "    <tr>\n",
       "      <th>4</th>\n",
       "      <td>13</td>\n",
       "      <td>12</td>\n",
       "      <td>11</td>\n",
       "      <td>8</td>\n",
       "      <td>0</td>\n",
       "      <td>9</td>\n",
       "      <td>9</td>\n",
       "      <td>8</td>\n",
       "      <td>8</td>\n",
       "      <td>4</td>\n",
       "      <td>...</td>\n",
       "      <td>6</td>\n",
       "      <td>6</td>\n",
       "      <td>5</td>\n",
       "      <td>8</td>\n",
       "      <td>15</td>\n",
       "      <td>12</td>\n",
       "      <td>13</td>\n",
       "      <td>13</td>\n",
       "      <td>12</td>\n",
       "      <td>14</td>\n",
       "    </tr>\n",
       "  </tbody>\n",
       "</table>\n",
       "<p>5 rows × 176 columns</p>\n",
       "</div>"
      ],
      "text/plain": [
       "   0    1    2    3    4    5    6    7    8    9    ...  166  167  168  169  \\\n",
       "0    0    2    5    8   13    4    6   11   17   13  ...   15   15   14   17   \n",
       "1    2    0    4    7   12    3    5   10   16   12  ...   14   14   13   16   \n",
       "2    5    4    0    3   11    7    9   10   15   11  ...   13   13   12   15   \n",
       "3    8    7    3    0    8    6    6    7   12    8  ...   10   10    9   12   \n",
       "4   13   12   11    8    0    9    9    8    8    4  ...    6    6    5    8   \n",
       "\n",
       "   170  171  172  173  174  175  \n",
       "0   11   14   13   13   12   13  \n",
       "1   11   13   12   12   11   12  \n",
       "2   12   15   16   16   15   16  \n",
       "3   12   12   13   13   12   13  \n",
       "4   15   12   13   13   12   14  \n",
       "\n",
       "[5 rows x 176 columns]"
      ]
     },
     "execution_count": 154,
     "metadata": {},
     "output_type": "execute_result"
    }
   ],
   "source": [
    "# calcolo della minore distanza tra tutte le coppie di nodi\n",
    "# --> la matrice sarà simmetrica perchè il grafo è indiretto\n",
    "labels2 = nx.get_edge_attributes(dGraph, 'length')\n",
    "dictDist2 = dict(nx.all_pairs_dijkstra_path_length(dGraph))\n",
    "mDist2 = pd.DataFrame(dictDist2)\n",
    "mDistSorted2 = mDist2.sort_index()\n",
    "#mDistSorted3 = mDistSorted2.reset_index()\n",
    "#mDistSorted4 = mDistSorted3.T.reset_index()\n",
    "mDistSorted2.head()"
   ]
  },
  {
   "cell_type": "code",
   "execution_count": 214,
   "id": "a858c658",
   "metadata": {},
   "outputs": [],
   "source": [
    "##### xx=nx.spring_layout(graph)\n",
    "#nx.draw_networkx(graph,xx)\n",
    "\n",
    "#RandG = nx.gnm_random_graph(10,18,seed=1234)\n",
    "#posG=nx.spring_layout(RandG)\n",
    "#nx.draw_networkx(RandG,posG)\n",
    "\n",
    "#for i in RandG.edges:\n",
    "#    G.add_edges_from(i, weight=np.random())\n",
    "#np.random.randint(low=1,high=15)\n",
    "\n",
    "\n",
    "def ER(n, p):\n",
    "    V = set([v for v in range(n)])\n",
    "    \n",
    "    g = nx.Graph()\n",
    "    g.add_nodes_from(V)\n",
    "    \n",
    "    for combination in combinations(V, 2):\n",
    "        a = random()\n",
    "        if a < p:\n",
    "            g.add_edge(combination[0], combination[1])\n",
    "        \n",
    "        flag = nx.check_planarity(g)\n",
    "        if  flag[0] == False:\n",
    "            g.remove_edge(combination[0], combination[1])\n",
    "    \n",
    "    return g\n",
    "\n",
    "#G = ER(15,0.6)\n",
    "#xx=nx.planar_layout(G)\n",
    "#nx.draw_networkx(G,xx)\n",
    "#\n",
    "#graph = nx.fast_gnp_random_graph(10,2)\n",
    "#xx=nx.spring_layout(graph)\n",
    "#nx.draw_networkx(graph,xx)\n"
   ]
  },
  {
   "cell_type": "markdown",
   "id": "a7137143",
   "metadata": {},
   "source": [
    "## Generazione dei file di dati da dare in input a minizinc"
   ]
  },
  {
   "cell_type": "code",
   "execution_count": 155,
   "id": "1c85795e",
   "metadata": {},
   "outputs": [],
   "source": [
    "orari_possibili = [\"19.00\", \"19.15\", \"19.30\", \"19.45\", \"20.00\", \"20.15\", \"20.30\", \"20.45\", \"21.00\", \"21.15\", \"21.30\"]\n",
    "# np.random.randint(1,17) --> generatore di numeri tra [1,16] aka generatore di numero di pizze\n",
    "# np.random.randint(2,len(mDistSorted2)+1) aka generatore di destinazioni\n",
    "#orario\n",
    "#num_pizze\n",
    "#dest\n",
    "\n",
    "N = 2\n",
    "orari, pizze, nodi = ordersGeneretor(orari_possibili, 16, mDistSorted2.shape[0], N)\n",
    "dfOrari = pd.DataFrame(orari)\n",
    "dfPizze = pd.DataFrame(pizze)\n",
    "dfNodi = pd.DataFrame(nodi)\n",
    "\n",
    "\n",
    "stringa = dataStringGenerator(pd.DataFrame(mDistSorted2/18,dtype=int), \"mdist\")\n",
    "stringaOrari = dataStringGenerator(dfOrari, \"orario\")\n",
    "stringaPizze = dataStringGenerator(dfPizze, \"num_pizze\")\n",
    "stringaNodi = dataStringGenerator(dfNodi, \"dest\")\n",
    "\n",
    "file = open('data.dzn', 'w')\n",
    "file.write(stringa + os.linesep \n",
    "           + stringaOrari + os.linesep \n",
    "           + stringaPizze + os.linesep \n",
    "           + stringaNodi+ os.linesep\n",
    "           + \"N = \" + str(N) + \";\" + os.linesep\n",
    "           + \"k = \" + str(mDistSorted2.shape[0]) + \";\" + os.linesep)\n",
    "file.close()"
   ]
  },
  {
   "cell_type": "code",
   "execution_count": null,
   "id": "08e524ab",
   "metadata": {},
   "outputs": [],
   "source": []
  }
 ],
 "metadata": {
  "kernelspec": {
   "display_name": "Python 3 (ipykernel)",
   "language": "python",
   "name": "python3"
  },
  "language_info": {
   "codemirror_mode": {
    "name": "ipython",
    "version": 3
   },
   "file_extension": ".py",
   "mimetype": "text/x-python",
   "name": "python",
   "nbconvert_exporter": "python",
   "pygments_lexer": "ipython3",
   "version": "3.10.2"
  }
 },
 "nbformat": 4,
 "nbformat_minor": 5
}
